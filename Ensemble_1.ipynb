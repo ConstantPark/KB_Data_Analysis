{
  "nbformat": 4,
  "nbformat_minor": 0,
  "metadata": {
    "kernelspec": {
      "display_name": "Python 3",
      "language": "python",
      "name": "python3"
    },
    "language_info": {
      "codemirror_mode": {
        "name": "ipython",
        "version": 3
      },
      "file_extension": ".py",
      "mimetype": "text/x-python",
      "name": "python",
      "nbconvert_exporter": "python",
      "pygments_lexer": "ipython3",
      "version": "3.8.3"
    },
    "colab": {
      "name": "Ensemble_1.ipynb",
      "provenance": []
    }
  },
  "cells": [
    {
      "cell_type": "code",
      "metadata": {
        "id": "AgIbjTmCPHyq"
      },
      "source": [
        "# moon dataset\n",
        "from sklearn.model_selection import train_test_split\n",
        "from sklearn.datasets import make_moons\n",
        "\n",
        "X, y = make_moons(n_samples=500, noise=0.30, random_state=42)\n",
        "X_train, X_test, y_train, y_test = train_test_split(X, y, random_state=42)"
      ],
      "execution_count": null,
      "outputs": []
    },
    {
      "cell_type": "markdown",
      "metadata": {
        "id": "KtTvgHtzPcgF"
      },
      "source": [
        "## DecisionTreeClassifier(criterion, splitter, max_depth, min_samples_split, min_samples_leaf, min_weight_fraction_leaf, max_features, random_state, max_leaf_nodes,  min_impurity_decrease, min_impurity_split, class_weight, presort)\n",
        "\n",
        "* criterion : 분할 품질을 측정하는 기능 (default : gini). \n",
        "* splitter : 각 노드에서 분할을 선택하는 데 사용되는 전략 (default : best). \n",
        "* max_depth : 트리의 최대 깊이 (값이 클수록 모델의 복잡도가 올라간다.). \n",
        "* min_samples_split : 자식 노드를 분할하는데 필요한 최소 샘플 수 (default : 2).  \n",
        "* min_samples_leaf : 리프 노드에 있어야 할 최소 샘플 수 (default : 1). \n",
        "* min_weight_fraction_leaf : min_sample_leaf와 같지만 가중치가 부여된 샘플 수에서의 비율. \n",
        "* max_features : 각 노드에서 분할에 사용할 특징의 최대 수. \n",
        "* random_state : 난수 seed 설정. \n",
        "* max_leaf_nodes : 리프 노드의 최대수. \n",
        "* min_impurity_decrease : 최소 불순도. \n",
        "* min_impurity_split : 나무 성장을 멈추기 위한 임계치. \n",
        "* class_weight : 클래스 가중치. \n",
        "* presort : 데이터 정렬 필요 여부. "
      ]
    },
    {
      "cell_type": "code",
      "metadata": {
        "id": "iDmV0lNRPHys",
        "outputId": "77044cf2-9b9b-432e-9b2f-180960b8eec2"
      },
      "source": [
        "from sklearn.ensemble import BaggingClassifier\n",
        "from sklearn.tree import DecisionTreeClassifier\n",
        "from sklearn.metrics import accuracy_score\n",
        "\n",
        "bag_clf = BaggingClassifier(DecisionTreeClassifier(),\n",
        "                           n_estimators=500,\n",
        "                           max_samples=100,\n",
        "                           bootstrap=True,\n",
        "                           n_jobs=-1)\n",
        "\n",
        "bag_clf.fit(X_train, y_train)\n",
        "y_pred = bag_clf.predict(X_test)\n",
        "print(bag_clf.__class__.__name__,accuracy_score(y_test, y_pred))\n",
        "\n",
        "\n",
        "# 결정트리 분류기 1개 학습\n",
        "# 난수의 seed는 42로 설정합니다.\n",
        "# ML객체를 생성하고, fit을 사용하여 어떠한 데이터를 사용하여 학습을 할 것인지를 명시하고\n",
        "# predict 함수를 사용하여 성능을 평가합니다.\n",
        "\n",
        "tree_clf =          (random_state=42)\n",
        "tree_clf.       (X_train, y_train)\n",
        "y_pred_tree = tree_clf.     (X_test)\n",
        "print(tree_clf.__class__.__name__,accuracy_score(y_test, y_pred_tree))"
      ],
      "execution_count": null,
      "outputs": [
        {
          "output_type": "stream",
          "text": [
            "BaggingClassifier 0.928\n",
            "DecisionTreeClassifier 0.856\n"
          ],
          "name": "stdout"
        }
      ]
    }
  ]
}