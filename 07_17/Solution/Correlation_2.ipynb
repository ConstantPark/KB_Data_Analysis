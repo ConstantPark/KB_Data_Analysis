{
  "nbformat": 4,
  "nbformat_minor": 0,
  "metadata": {
    "colab": {
      "name": "Untitled27.ipynb",
      "provenance": [],
      "collapsed_sections": []
    },
    "kernelspec": {
      "name": "python3",
      "display_name": "Python 3"
    },
    "language_info": {
      "name": "python"
    }
  },
  "cells": [
    {
      "cell_type": "markdown",
      "metadata": {
        "id": "hE3RVW5CSi9o"
      },
      "source": [
        "## 타이타닉 데이터 다운로드"
      ]
    },
    {
      "cell_type": "code",
      "metadata": {
        "colab": {
          "base_uri": "https://localhost:8080/",
          "height": 796
        },
        "id": "rHToCfa_Slql",
        "outputId": "2dc77634-4d4a-4185-c106-d92c069481b1"
      },
      "source": [
        "import pandas as pd\n",
        "import numpy as np\n",
        "import matplotlib.pyplot as plt\n",
        "\n",
        "file_path = '/content/titanic_train.csv'\n",
        "train_df = pd.read_csv(file_path, sep=',')\n",
        "train_df"
      ],
      "execution_count": 21,
      "outputs": [
        {
          "output_type": "execute_result",
          "data": {
            "text/html": [
              "<div>\n",
              "<style scoped>\n",
              "    .dataframe tbody tr th:only-of-type {\n",
              "        vertical-align: middle;\n",
              "    }\n",
              "\n",
              "    .dataframe tbody tr th {\n",
              "        vertical-align: top;\n",
              "    }\n",
              "\n",
              "    .dataframe thead th {\n",
              "        text-align: right;\n",
              "    }\n",
              "</style>\n",
              "<table border=\"1\" class=\"dataframe\">\n",
              "  <thead>\n",
              "    <tr style=\"text-align: right;\">\n",
              "      <th></th>\n",
              "      <th>pclass</th>\n",
              "      <th>survived</th>\n",
              "      <th>name</th>\n",
              "      <th>sex</th>\n",
              "      <th>age</th>\n",
              "      <th>sibsp</th>\n",
              "      <th>parch</th>\n",
              "      <th>ticket</th>\n",
              "      <th>fare</th>\n",
              "      <th>cabin</th>\n",
              "      <th>embarked</th>\n",
              "      <th>body</th>\n",
              "      <th>home.dest</th>\n",
              "    </tr>\n",
              "  </thead>\n",
              "  <tbody>\n",
              "    <tr>\n",
              "      <th>0</th>\n",
              "      <td>2</td>\n",
              "      <td>1</td>\n",
              "      <td>Mellinger, Miss. Madeleine Violet</td>\n",
              "      <td>female</td>\n",
              "      <td>13.00</td>\n",
              "      <td>0</td>\n",
              "      <td>1</td>\n",
              "      <td>250644</td>\n",
              "      <td>19.5000</td>\n",
              "      <td>NaN</td>\n",
              "      <td>S</td>\n",
              "      <td>NaN</td>\n",
              "      <td>England / Bennington, VT</td>\n",
              "    </tr>\n",
              "    <tr>\n",
              "      <th>1</th>\n",
              "      <td>2</td>\n",
              "      <td>1</td>\n",
              "      <td>Wells, Miss. Joan</td>\n",
              "      <td>female</td>\n",
              "      <td>4.00</td>\n",
              "      <td>1</td>\n",
              "      <td>1</td>\n",
              "      <td>29103</td>\n",
              "      <td>23.0000</td>\n",
              "      <td>NaN</td>\n",
              "      <td>S</td>\n",
              "      <td>NaN</td>\n",
              "      <td>Cornwall / Akron, OH</td>\n",
              "    </tr>\n",
              "    <tr>\n",
              "      <th>2</th>\n",
              "      <td>2</td>\n",
              "      <td>1</td>\n",
              "      <td>Duran y More, Miss. Florentina</td>\n",
              "      <td>female</td>\n",
              "      <td>30.00</td>\n",
              "      <td>1</td>\n",
              "      <td>0</td>\n",
              "      <td>SC/PARIS 2148</td>\n",
              "      <td>13.8583</td>\n",
              "      <td>NaN</td>\n",
              "      <td>C</td>\n",
              "      <td>NaN</td>\n",
              "      <td>Barcelona, Spain / Havana, Cuba</td>\n",
              "    </tr>\n",
              "    <tr>\n",
              "      <th>3</th>\n",
              "      <td>3</td>\n",
              "      <td>0</td>\n",
              "      <td>Scanlan, Mr. James</td>\n",
              "      <td>male</td>\n",
              "      <td>NaN</td>\n",
              "      <td>0</td>\n",
              "      <td>0</td>\n",
              "      <td>36209</td>\n",
              "      <td>7.7250</td>\n",
              "      <td>NaN</td>\n",
              "      <td>Q</td>\n",
              "      <td>NaN</td>\n",
              "      <td>NaN</td>\n",
              "    </tr>\n",
              "    <tr>\n",
              "      <th>4</th>\n",
              "      <td>3</td>\n",
              "      <td>1</td>\n",
              "      <td>Bradley, Miss. Bridget Delia</td>\n",
              "      <td>female</td>\n",
              "      <td>22.00</td>\n",
              "      <td>0</td>\n",
              "      <td>0</td>\n",
              "      <td>334914</td>\n",
              "      <td>7.7250</td>\n",
              "      <td>NaN</td>\n",
              "      <td>Q</td>\n",
              "      <td>NaN</td>\n",
              "      <td>Kingwilliamstown, Co Cork, Ireland Glens Falls...</td>\n",
              "    </tr>\n",
              "    <tr>\n",
              "      <th>...</th>\n",
              "      <td>...</td>\n",
              "      <td>...</td>\n",
              "      <td>...</td>\n",
              "      <td>...</td>\n",
              "      <td>...</td>\n",
              "      <td>...</td>\n",
              "      <td>...</td>\n",
              "      <td>...</td>\n",
              "      <td>...</td>\n",
              "      <td>...</td>\n",
              "      <td>...</td>\n",
              "      <td>...</td>\n",
              "      <td>...</td>\n",
              "    </tr>\n",
              "    <tr>\n",
              "      <th>911</th>\n",
              "      <td>3</td>\n",
              "      <td>1</td>\n",
              "      <td>Dean, Miss. Elizabeth Gladys \"Millvina\"</td>\n",
              "      <td>female</td>\n",
              "      <td>0.17</td>\n",
              "      <td>1</td>\n",
              "      <td>2</td>\n",
              "      <td>C.A. 2315</td>\n",
              "      <td>20.5750</td>\n",
              "      <td>NaN</td>\n",
              "      <td>S</td>\n",
              "      <td>NaN</td>\n",
              "      <td>Devon, England Wichita, KS</td>\n",
              "    </tr>\n",
              "    <tr>\n",
              "      <th>912</th>\n",
              "      <td>3</td>\n",
              "      <td>0</td>\n",
              "      <td>Guest, Mr. Robert</td>\n",
              "      <td>male</td>\n",
              "      <td>NaN</td>\n",
              "      <td>0</td>\n",
              "      <td>0</td>\n",
              "      <td>376563</td>\n",
              "      <td>8.0500</td>\n",
              "      <td>NaN</td>\n",
              "      <td>S</td>\n",
              "      <td>NaN</td>\n",
              "      <td>NaN</td>\n",
              "    </tr>\n",
              "    <tr>\n",
              "      <th>913</th>\n",
              "      <td>3</td>\n",
              "      <td>1</td>\n",
              "      <td>Smyth, Miss. Julia</td>\n",
              "      <td>female</td>\n",
              "      <td>NaN</td>\n",
              "      <td>0</td>\n",
              "      <td>0</td>\n",
              "      <td>335432</td>\n",
              "      <td>7.7333</td>\n",
              "      <td>NaN</td>\n",
              "      <td>Q</td>\n",
              "      <td>NaN</td>\n",
              "      <td>NaN</td>\n",
              "    </tr>\n",
              "    <tr>\n",
              "      <th>914</th>\n",
              "      <td>2</td>\n",
              "      <td>1</td>\n",
              "      <td>Sincock, Miss. Maude</td>\n",
              "      <td>female</td>\n",
              "      <td>20.00</td>\n",
              "      <td>0</td>\n",
              "      <td>0</td>\n",
              "      <td>C.A. 33112</td>\n",
              "      <td>36.7500</td>\n",
              "      <td>NaN</td>\n",
              "      <td>S</td>\n",
              "      <td>NaN</td>\n",
              "      <td>Cornwall / Hancock, MI</td>\n",
              "    </tr>\n",
              "    <tr>\n",
              "      <th>915</th>\n",
              "      <td>3</td>\n",
              "      <td>0</td>\n",
              "      <td>Bourke, Mrs. John (Catherine)</td>\n",
              "      <td>female</td>\n",
              "      <td>32.00</td>\n",
              "      <td>1</td>\n",
              "      <td>1</td>\n",
              "      <td>364849</td>\n",
              "      <td>15.5000</td>\n",
              "      <td>NaN</td>\n",
              "      <td>Q</td>\n",
              "      <td>NaN</td>\n",
              "      <td>Ireland Chicago, IL</td>\n",
              "    </tr>\n",
              "  </tbody>\n",
              "</table>\n",
              "<p>916 rows × 13 columns</p>\n",
              "</div>"
            ],
            "text/plain": [
              "     pclass  survived  ... body                                          home.dest\n",
              "0         2         1  ...  NaN                           England / Bennington, VT\n",
              "1         2         1  ...  NaN                               Cornwall / Akron, OH\n",
              "2         2         1  ...  NaN                    Barcelona, Spain / Havana, Cuba\n",
              "3         3         0  ...  NaN                                                NaN\n",
              "4         3         1  ...  NaN  Kingwilliamstown, Co Cork, Ireland Glens Falls...\n",
              "..      ...       ...  ...  ...                                                ...\n",
              "911       3         1  ...  NaN                         Devon, England Wichita, KS\n",
              "912       3         0  ...  NaN                                                NaN\n",
              "913       3         1  ...  NaN                                                NaN\n",
              "914       2         1  ...  NaN                             Cornwall / Hancock, MI\n",
              "915       3         0  ...  NaN                                Ireland Chicago, IL\n",
              "\n",
              "[916 rows x 13 columns]"
            ]
          },
          "metadata": {
            "tags": []
          },
          "execution_count": 21
        }
      ]
    },
    {
      "cell_type": "markdown",
      "metadata": {
        "id": "D4GT23v9SsyN"
      },
      "source": [
        "총 916명의 승객에 대한 정보는 다음의 정보를 포함합니다.\n",
        "\n",
        "1. pclass : 티켓 등급\n",
        "2. survived : 생존 유무(생존=1, 죽음=0)\n",
        "3. name : 승객 이름\n",
        "4. sex : 성별\n",
        "5. age : 나이\n",
        "6. sibsp : 동승자 수(형제 또는 배우자)\n",
        "7. parch : 동승자 수(부모 또는 자녀)\n",
        "8. ticket : 티켓 번호\n",
        "9. far : 티켓 요금\n",
        "10. cabin : 선실 번호\n",
        "11. embarked : 탑승 장소(선착장)"
      ]
    },
    {
      "cell_type": "markdown",
      "metadata": {
        "id": "rE3M4YUfSzgg"
      },
      "source": [
        "## 데이터를 정제하기 위해, 결측 값을 확인합니다"
      ]
    },
    {
      "cell_type": "code",
      "metadata": {
        "colab": {
          "base_uri": "https://localhost:8080/"
        },
        "id": "VxmERbqaSxlD",
        "outputId": "45554d1a-9a2a-4b8b-a4f9-ea050d1c8b27"
      },
      "source": [
        "train_df.isnull().sum()"
      ],
      "execution_count": 25,
      "outputs": [
        {
          "output_type": "execute_result",
          "data": {
            "text/plain": [
              "pclass      0\n",
              "survived    0\n",
              "name        0\n",
              "sex         0\n",
              "age         0\n",
              "sibsp       0\n",
              "parch       0\n",
              "ticket      0\n",
              "fare        0\n",
              "embarked    2\n",
              "dtype: int64"
            ]
          },
          "metadata": {
            "tags": []
          },
          "execution_count": 25
        }
      ]
    },
    {
      "cell_type": "markdown",
      "metadata": {
        "id": "clbINI76S525"
      },
      "source": [
        "결측 값인 'NaN'이 age, cabin, body, home.dest에서 많이 발생합니다.   \n",
        "age는 보류하고, cabin과 body, home.dest는 이번 분석에서 제외합니다. (생존과 연관이 거의 없기 때문에)"
      ]
    },
    {
      "cell_type": "code",
      "metadata": {
        "colab": {
          "base_uri": "https://localhost:8080/",
          "height": 453
        },
        "id": "EcIXJizmTD7Q",
        "outputId": "ee55ed53-c44a-4f38-a235-a88a2cc2e15c"
      },
      "source": [
        "train_df=train_df.drop(['cabin','body','home.dest'], axis=1)\n",
        "train_df"
      ],
      "execution_count": 23,
      "outputs": [
        {
          "output_type": "execute_result",
          "data": {
            "text/html": [
              "<div>\n",
              "<style scoped>\n",
              "    .dataframe tbody tr th:only-of-type {\n",
              "        vertical-align: middle;\n",
              "    }\n",
              "\n",
              "    .dataframe tbody tr th {\n",
              "        vertical-align: top;\n",
              "    }\n",
              "\n",
              "    .dataframe thead th {\n",
              "        text-align: right;\n",
              "    }\n",
              "</style>\n",
              "<table border=\"1\" class=\"dataframe\">\n",
              "  <thead>\n",
              "    <tr style=\"text-align: right;\">\n",
              "      <th></th>\n",
              "      <th>pclass</th>\n",
              "      <th>survived</th>\n",
              "      <th>name</th>\n",
              "      <th>sex</th>\n",
              "      <th>age</th>\n",
              "      <th>sibsp</th>\n",
              "      <th>parch</th>\n",
              "      <th>ticket</th>\n",
              "      <th>fare</th>\n",
              "      <th>embarked</th>\n",
              "    </tr>\n",
              "  </thead>\n",
              "  <tbody>\n",
              "    <tr>\n",
              "      <th>0</th>\n",
              "      <td>2</td>\n",
              "      <td>1</td>\n",
              "      <td>Mellinger, Miss. Madeleine Violet</td>\n",
              "      <td>female</td>\n",
              "      <td>13.00</td>\n",
              "      <td>0</td>\n",
              "      <td>1</td>\n",
              "      <td>250644</td>\n",
              "      <td>19.5000</td>\n",
              "      <td>S</td>\n",
              "    </tr>\n",
              "    <tr>\n",
              "      <th>1</th>\n",
              "      <td>2</td>\n",
              "      <td>1</td>\n",
              "      <td>Wells, Miss. Joan</td>\n",
              "      <td>female</td>\n",
              "      <td>4.00</td>\n",
              "      <td>1</td>\n",
              "      <td>1</td>\n",
              "      <td>29103</td>\n",
              "      <td>23.0000</td>\n",
              "      <td>S</td>\n",
              "    </tr>\n",
              "    <tr>\n",
              "      <th>2</th>\n",
              "      <td>2</td>\n",
              "      <td>1</td>\n",
              "      <td>Duran y More, Miss. Florentina</td>\n",
              "      <td>female</td>\n",
              "      <td>30.00</td>\n",
              "      <td>1</td>\n",
              "      <td>0</td>\n",
              "      <td>SC/PARIS 2148</td>\n",
              "      <td>13.8583</td>\n",
              "      <td>C</td>\n",
              "    </tr>\n",
              "    <tr>\n",
              "      <th>3</th>\n",
              "      <td>3</td>\n",
              "      <td>0</td>\n",
              "      <td>Scanlan, Mr. James</td>\n",
              "      <td>male</td>\n",
              "      <td>NaN</td>\n",
              "      <td>0</td>\n",
              "      <td>0</td>\n",
              "      <td>36209</td>\n",
              "      <td>7.7250</td>\n",
              "      <td>Q</td>\n",
              "    </tr>\n",
              "    <tr>\n",
              "      <th>4</th>\n",
              "      <td>3</td>\n",
              "      <td>1</td>\n",
              "      <td>Bradley, Miss. Bridget Delia</td>\n",
              "      <td>female</td>\n",
              "      <td>22.00</td>\n",
              "      <td>0</td>\n",
              "      <td>0</td>\n",
              "      <td>334914</td>\n",
              "      <td>7.7250</td>\n",
              "      <td>Q</td>\n",
              "    </tr>\n",
              "    <tr>\n",
              "      <th>...</th>\n",
              "      <td>...</td>\n",
              "      <td>...</td>\n",
              "      <td>...</td>\n",
              "      <td>...</td>\n",
              "      <td>...</td>\n",
              "      <td>...</td>\n",
              "      <td>...</td>\n",
              "      <td>...</td>\n",
              "      <td>...</td>\n",
              "      <td>...</td>\n",
              "    </tr>\n",
              "    <tr>\n",
              "      <th>911</th>\n",
              "      <td>3</td>\n",
              "      <td>1</td>\n",
              "      <td>Dean, Miss. Elizabeth Gladys \"Millvina\"</td>\n",
              "      <td>female</td>\n",
              "      <td>0.17</td>\n",
              "      <td>1</td>\n",
              "      <td>2</td>\n",
              "      <td>C.A. 2315</td>\n",
              "      <td>20.5750</td>\n",
              "      <td>S</td>\n",
              "    </tr>\n",
              "    <tr>\n",
              "      <th>912</th>\n",
              "      <td>3</td>\n",
              "      <td>0</td>\n",
              "      <td>Guest, Mr. Robert</td>\n",
              "      <td>male</td>\n",
              "      <td>NaN</td>\n",
              "      <td>0</td>\n",
              "      <td>0</td>\n",
              "      <td>376563</td>\n",
              "      <td>8.0500</td>\n",
              "      <td>S</td>\n",
              "    </tr>\n",
              "    <tr>\n",
              "      <th>913</th>\n",
              "      <td>3</td>\n",
              "      <td>1</td>\n",
              "      <td>Smyth, Miss. Julia</td>\n",
              "      <td>female</td>\n",
              "      <td>NaN</td>\n",
              "      <td>0</td>\n",
              "      <td>0</td>\n",
              "      <td>335432</td>\n",
              "      <td>7.7333</td>\n",
              "      <td>Q</td>\n",
              "    </tr>\n",
              "    <tr>\n",
              "      <th>914</th>\n",
              "      <td>2</td>\n",
              "      <td>1</td>\n",
              "      <td>Sincock, Miss. Maude</td>\n",
              "      <td>female</td>\n",
              "      <td>20.00</td>\n",
              "      <td>0</td>\n",
              "      <td>0</td>\n",
              "      <td>C.A. 33112</td>\n",
              "      <td>36.7500</td>\n",
              "      <td>S</td>\n",
              "    </tr>\n",
              "    <tr>\n",
              "      <th>915</th>\n",
              "      <td>3</td>\n",
              "      <td>0</td>\n",
              "      <td>Bourke, Mrs. John (Catherine)</td>\n",
              "      <td>female</td>\n",
              "      <td>32.00</td>\n",
              "      <td>1</td>\n",
              "      <td>1</td>\n",
              "      <td>364849</td>\n",
              "      <td>15.5000</td>\n",
              "      <td>Q</td>\n",
              "    </tr>\n",
              "  </tbody>\n",
              "</table>\n",
              "<p>916 rows × 10 columns</p>\n",
              "</div>"
            ],
            "text/plain": [
              "     pclass  survived  ...     fare embarked\n",
              "0         2         1  ...  19.5000        S\n",
              "1         2         1  ...  23.0000        S\n",
              "2         2         1  ...  13.8583        C\n",
              "3         3         0  ...   7.7250        Q\n",
              "4         3         1  ...   7.7250        Q\n",
              "..      ...       ...  ...      ...      ...\n",
              "911       3         1  ...  20.5750        S\n",
              "912       3         0  ...   8.0500        S\n",
              "913       3         1  ...   7.7333        Q\n",
              "914       2         1  ...  36.7500        S\n",
              "915       3         0  ...  15.5000        Q\n",
              "\n",
              "[916 rows x 10 columns]"
            ]
          },
          "metadata": {
            "tags": []
          },
          "execution_count": 23
        }
      ]
    },
    {
      "cell_type": "markdown",
      "metadata": {
        "id": "6v8QCa97Uxbd"
      },
      "source": [
        "age 속성의 결측값을 채우는 과정을 진행합니다.  \n",
        "여기서는 평균값을 계산하여 결측값을 채웁니다.\n"
      ]
    },
    {
      "cell_type": "code",
      "metadata": {
        "colab": {
          "base_uri": "https://localhost:8080/"
        },
        "id": "5Wji_9UfUxlI",
        "outputId": "152ebabb-7b36-42d3-ff31-4ebf90b30360"
      },
      "source": [
        "mean=train_df['age'].mean()\n",
        "num=0\n",
        "for i in train_df['age'] :\n",
        "    if np.isnan(i) :\n",
        "        train_df['age'][num]=mean\n",
        "    num+=1\n",
        "train_df['age']\n",
        "\n"
      ],
      "execution_count": 24,
      "outputs": [
        {
          "output_type": "stream",
          "text": [
            "/usr/local/lib/python3.7/dist-packages/ipykernel_launcher.py:5: SettingWithCopyWarning: \n",
            "A value is trying to be set on a copy of a slice from a DataFrame\n",
            "\n",
            "See the caveats in the documentation: https://pandas.pydata.org/pandas-docs/stable/user_guide/indexing.html#returning-a-view-versus-a-copy\n",
            "  \"\"\"\n"
          ],
          "name": "stderr"
        },
        {
          "output_type": "execute_result",
          "data": {
            "text/plain": [
              "0      13.000000\n",
              "1       4.000000\n",
              "2      30.000000\n",
              "3      30.231444\n",
              "4      22.000000\n",
              "         ...    \n",
              "911     0.170000\n",
              "912    30.231444\n",
              "913    30.231444\n",
              "914    20.000000\n",
              "915    32.000000\n",
              "Name: age, Length: 916, dtype: float64"
            ]
          },
          "metadata": {
            "tags": []
          },
          "execution_count": 24
        }
      ]
    },
    {
      "cell_type": "markdown",
      "metadata": {
        "id": "K-SVXP3PTUTT"
      },
      "source": [
        "## 차트를 사용하여 생존과 각 데이터의 연관관계를 추측합니다"
      ]
    },
    {
      "cell_type": "markdown",
      "metadata": {
        "id": "ldMEyW5yUwAZ"
      },
      "source": [
        ""
      ]
    },
    {
      "cell_type": "code",
      "metadata": {
        "colab": {
          "base_uri": "https://localhost:8080/",
          "height": 467
        },
        "id": "CugC9WBnTUcT",
        "outputId": "dfe05974-9796-4d0d-dfa6-068abb23a13a"
      },
      "source": [
        "plt.rcParams[\"figure.figsize\"] = (20,10)\n",
        "plt.rcParams['axes.grid'] = True \n",
        "\n",
        "def bar_chart(feature):\n",
        "    survived = train_df[train_df['survived']==1][feature].value_counts()\n",
        "    dead = train_df[train_df['survived']==0][feature].value_counts()\n",
        "    df = pd.DataFrame([survived,dead])\n",
        "    df.index = ['survived','dead']\n",
        "    df.plot(kind='bar',stacked=True)\n",
        "\n",
        "bar_chart('pclass')"
      ],
      "execution_count": 19,
      "outputs": [
        {
          "output_type": "display_data",
          "data": {
            "image/png": "[encoded data removed]",
            "text/plain": [
              "<Figure size 1440x720 with 1 Axes>"
            ]
          },
          "metadata": {
            "tags": [],
            "needs_background": "light"
          }
        }
      ]
    },
    {
      "cell_type": "markdown",
      "metadata": {
        "id": "sNfDUbpJTjQ8"
      },
      "source": [
        "1등석이 다른 등급에 비해 살아남은 비중이 높습니다.\n",
        "1등석의 위치가 생존에 유리한 곳에 위치함을 추측 할 수 있습니다."
      ]
    },
    {
      "cell_type": "markdown",
      "metadata": {
        "id": "td2raIS6Tmuy"
      },
      "source": [
        "## 성별과의 관계\n",
        "\n",
        "남성에 비해 여성이 많이 살았습니다.  \n",
        "구조 시, 여성을 우선적으로 구조했을 것이라고 추측할 수 있습니다."
      ]
    },
    {
      "cell_type": "code",
      "metadata": {
        "colab": {
          "base_uri": "https://localhost:8080/",
          "height": 467
        },
        "id": "Q6jOUmEITm2d",
        "outputId": "f69b7108-7d13-4db1-bd05-ea3ec298f374"
      },
      "source": [
        "bar_chart('sex')"
      ],
      "execution_count": 17,
      "outputs": [
        {
          "output_type": "display_data",
          "data": {
            "image/png": "[encoded data removed]",
            "text/plain": [
              "<Figure size 1440x720 with 1 Axes>"
            ]
          },
          "metadata": {
            "tags": [],
            "needs_background": "light"
          }
        }
      ]
    },
    {
      "cell_type": "markdown",
      "metadata": {
        "id": "h969Vt6XT0eC"
      },
      "source": [
        "## 연령대(age)와의 관계\n",
        "\n",
        "연령대는 구간별로 측정하여 시각화를 진행합니다.  \n",
        "0 = 0-20살  \n",
        "1 = 21-40살  \n",
        "2 = 41-60살  \n",
        "3 = 60-80살  \n",
        "4 = 80살 이상  "
      ]
    },
    {
      "cell_type": "code",
      "metadata": {
        "colab": {
          "base_uri": "https://localhost:8080/",
          "height": 467
        },
        "id": "oZC2YGPRT0mH",
        "outputId": "43aea4d3-744c-48a1-da08-45294b023344"
      },
      "source": [
        "train_df.loc[train_df['age']<=20, 'age']=0\n",
        "train_df.loc[(train_df['age']<=40)&(train_df['age']>20), 'age']=1\n",
        "train_df.loc[(train_df['age']<=60)&(train_df['age']>40), 'age']=2\n",
        "train_df.loc[(train_df['age']<=80)&(train_df['age']>60), 'age']=3\n",
        "train_df.loc[train_df['age']>80, 'age']=4\n",
        "\n",
        "bar_chart('age')"
      ],
      "execution_count": 26,
      "outputs": [
        {
          "output_type": "display_data",
          "data": {
            "image/png": "[encoded data removed]",
            "text/plain": [
              "<Figure size 1440x720 with 1 Axes>"
            ]
          },
          "metadata": {
            "tags": [],
            "needs_background": "light"
          }
        }
      ]
    },
    {
      "cell_type": "markdown",
      "metadata": {
        "id": "BPGM0kbSUL75"
      },
      "source": [
        "## 상관관계 분석"
      ]
    },
    {
      "cell_type": "code",
      "metadata": {
        "colab": {
          "base_uri": "https://localhost:8080/",
          "height": 235
        },
        "id": "3zuQu8ynUMEg",
        "outputId": "208f9c8b-92dc-4176-c648-735a15ed0397"
      },
      "source": [
        "train_df.corr(method='pearson')"
      ],
      "execution_count": 27,
      "outputs": [
        {
          "output_type": "execute_result",
          "data": {
            "text/html": [
              "<div>\n",
              "<style scoped>\n",
              "    .dataframe tbody tr th:only-of-type {\n",
              "        vertical-align: middle;\n",
              "    }\n",
              "\n",
              "    .dataframe tbody tr th {\n",
              "        vertical-align: top;\n",
              "    }\n",
              "\n",
              "    .dataframe thead th {\n",
              "        text-align: right;\n",
              "    }\n",
              "</style>\n",
              "<table border=\"1\" class=\"dataframe\">\n",
              "  <thead>\n",
              "    <tr style=\"text-align: right;\">\n",
              "      <th></th>\n",
              "      <th>pclass</th>\n",
              "      <th>survived</th>\n",
              "      <th>age</th>\n",
              "      <th>sibsp</th>\n",
              "      <th>parch</th>\n",
              "      <th>fare</th>\n",
              "    </tr>\n",
              "  </thead>\n",
              "  <tbody>\n",
              "    <tr>\n",
              "      <th>pclass</th>\n",
              "      <td>1.000000</td>\n",
              "      <td>-0.309735</td>\n",
              "      <td>-0.332608</td>\n",
              "      <td>0.073984</td>\n",
              "      <td>0.019397</td>\n",
              "      <td>-0.581359</td>\n",
              "    </tr>\n",
              "    <tr>\n",
              "      <th>survived</th>\n",
              "      <td>-0.309735</td>\n",
              "      <td>1.000000</td>\n",
              "      <td>-0.022401</td>\n",
              "      <td>-0.069888</td>\n",
              "      <td>0.061566</td>\n",
              "      <td>0.241467</td>\n",
              "    </tr>\n",
              "    <tr>\n",
              "      <th>age</th>\n",
              "      <td>-0.332608</td>\n",
              "      <td>-0.022401</td>\n",
              "      <td>1.000000</td>\n",
              "      <td>-0.162586</td>\n",
              "      <td>-0.106890</td>\n",
              "      <td>0.154959</td>\n",
              "    </tr>\n",
              "    <tr>\n",
              "      <th>sibsp</th>\n",
              "      <td>0.073984</td>\n",
              "      <td>-0.069888</td>\n",
              "      <td>-0.162586</td>\n",
              "      <td>1.000000</td>\n",
              "      <td>0.400843</td>\n",
              "      <td>0.179533</td>\n",
              "    </tr>\n",
              "    <tr>\n",
              "      <th>parch</th>\n",
              "      <td>0.019397</td>\n",
              "      <td>0.061566</td>\n",
              "      <td>-0.106890</td>\n",
              "      <td>0.400843</td>\n",
              "      <td>1.000000</td>\n",
              "      <td>0.252270</td>\n",
              "    </tr>\n",
              "    <tr>\n",
              "      <th>fare</th>\n",
              "      <td>-0.581359</td>\n",
              "      <td>0.241467</td>\n",
              "      <td>0.154959</td>\n",
              "      <td>0.179533</td>\n",
              "      <td>0.252270</td>\n",
              "      <td>1.000000</td>\n",
              "    </tr>\n",
              "  </tbody>\n",
              "</table>\n",
              "</div>"
            ],
            "text/plain": [
              "            pclass  survived       age     sibsp     parch      fare\n",
              "pclass    1.000000 -0.309735 -0.332608  0.073984  0.019397 -0.581359\n",
              "survived -0.309735  1.000000 -0.022401 -0.069888  0.061566  0.241467\n",
              "age      -0.332608 -0.022401  1.000000 -0.162586 -0.106890  0.154959\n",
              "sibsp     0.073984 -0.069888 -0.162586  1.000000  0.400843  0.179533\n",
              "parch     0.019397  0.061566 -0.106890  0.400843  1.000000  0.252270\n",
              "fare     -0.581359  0.241467  0.154959  0.179533  0.252270  1.000000"
            ]
          },
          "metadata": {
            "tags": []
          },
          "execution_count": 27
        }
      ]
    },
    {
      "cell_type": "markdown",
      "metadata": {
        "id": "gO3Pfl93UDQh"
      },
      "source": [
        "## 상관관계를 시각화 합니다 (heatmap)."
      ]
    },
    {
      "cell_type": "code",
      "metadata": {
        "colab": {
          "base_uri": "https://localhost:8080/",
          "height": 341
        },
        "id": "jPKN7NjPVMID",
        "outputId": "1037b2b0-bdd8-4865-f8c0-69b7e4e52b45"
      },
      "source": [
        "#heatmap으로 상관관계를 표시\n",
        "import seaborn as sb\n",
        "plt.rcParams[\"figure.figsize\"] = (5,5)\n",
        "sb.heatmap(train_df.corr(),\n",
        "           annot = True, #실제 값 화면에 나타내기\n",
        "           cmap = 'Greens', #색상\n",
        "           vmin = -1, vmax=1 , #컬러차트 영역 -1 ~ +1\n",
        "          )"
      ],
      "execution_count": 28,
      "outputs": [
        {
          "output_type": "execute_result",
          "data": {
            "text/plain": [
              "<matplotlib.axes._subplots.AxesSubplot at 0x7fee9db71a90>"
            ]
          },
          "metadata": {
            "tags": []
          },
          "execution_count": 28
        },
        {
          "output_type": "display_data",
          "data": {
            "image/png": "[encoded data removed]",
            "text/plain": [
              "<Figure size 360x360 with 2 Axes>"
            ]
          },
          "metadata": {
            "tags": [],
            "needs_background": "light"
          }
        }
      ]
    }
  ]
}