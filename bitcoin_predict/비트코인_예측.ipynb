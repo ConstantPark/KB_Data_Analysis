{
 "cells": [
  {
   "cell_type": "code",
   "execution_count": 7,
   "metadata": {},
   "outputs": [],
   "source": [
    "import numpy as np\n",
    "import pandas as pd\n",
    "from sklearn import tree,metrics,svm\n",
    "from sklearn.ensemble import RandomForestClassifier\n",
    "\n",
    "# 시작과 끝을 명시\n",
    "Start_Index=0 \n",
    "Last_Index=25"
   ]
  },
  {
   "cell_type": "code",
   "execution_count": 8,
   "metadata": {},
   "outputs": [],
   "source": [
    "# CSV파일을 읽는 함수 (종가를 기준으로 예측)\n",
    "def importData(file):\n",
    "    csvfile=file\n",
    "    btc_price = pd.read_csv(csvfile)\n",
    "    data=np.array(btc_price['Close'])\n",
    "    return np.array(data[::-1])\n",
    "\n",
    "# 학습 데이터를 생성하는 함수 \n",
    "def trainData(data):\n",
    "    for i in range(0,Last_Index):\n",
    "        values = data[Start_Index+i:Start_Index+Last_Index+1+i]\n",
    "        today = values[0]\n",
    "        lastday = values[Start_Index+i]\n",
    "        if  today > lastday:\n",
    "            train_y.append(1)\n",
    "        else:\n",
    "            train_y.append(0)\n",
    "        train_X.append(values)      \n",
    "    return np.array(train_X), np.array(train_y)\n",
    "\n",
    "# 예측과 정답데이터 생성\n",
    "def prediction():\n",
    "    for i in range(0, Last_Index):\n",
    "        values = predict_data[Start_Index+i:Start_Index+Last_Index+1+i]\n",
    "        test_y.append(values)\n",
    "        today = values[0]\n",
    "        lastday = values[Start_Index+i]\n",
    "        if today > lastday :\n",
    "            answer.append(1)\n",
    "        else:\n",
    "            answer.append(0)\t\t\n",
    "        result = clf.predict(test_y)\n",
    "    predictions = result\n",
    "    return predictions ,answer ,test_y"
   ]
  },
  {
   "cell_type": "code",
   "execution_count": 16,
   "metadata": {},
   "outputs": [
    {
     "name": "stdout",
     "output_type": "stream",
     "text": [
      "예측 결과의 정답률：60.0%\n",
      "정답데이터：[0, 0, 1, 1, 1, 0, 1, 1, 0, 0, 1, 1, 1, 1, 1, 1, 1, 1, 1, 0, 0, 0, 0, 0, 0]\n",
      "예측 결과의 상승률:48.0%\n",
      "              precision    recall  f1-score   support\n",
      "\n",
      "           0       0.64      0.54      0.58        13\n",
      "           1       0.57      0.67      0.62        12\n",
      "\n",
      "    accuracy                           0.60        25\n",
      "   macro avg       0.60      0.60      0.60        25\n",
      "weighted avg       0.61      0.60      0.60        25\n",
      "\n"
     ]
    }
   ],
   "source": [
    "# 학습에 사용할 변수를 명시 (입력과 정답)\n",
    "train_X = []\n",
    "train_y = []\n",
    "\n",
    "# 학습에 사용할 CSV 파일을 읽기\n",
    "data = importData('bitcoin_data_train.csv')\n",
    "#display (data)\n",
    "# 학습에 사용할 데이터를 분리\n",
    "train_X, train_y = trainData(data)\n",
    "\n",
    "# Random Forest 머신러닝 모델을 사용하여 학습을 진행\n",
    "clf = RandomForestClassifier()\n",
    "clf.fit(train_X, train_y)\n",
    " \n",
    "test_X = []\n",
    "test_y = []\n",
    "answer = []\n",
    "result = []\n",
    "predictions = [] \n",
    "predict_data = importData('bitcoin_data_test.csv')\n",
    "# 학습된 모델의 성능 평가\n",
    "predictions ,answer ,test_y = prediction()\n",
    "\n",
    "up_count = 0.0\n",
    "for i in predictions:\n",
    "    if i > 0:\n",
    "\t    up_count += 1.0\n",
    "total = len(predictions)\n",
    "up_ratio = up_count / total *100\n",
    "ac_score = metrics.accuracy_score(predictions, answer)\n",
    "cl_report = metrics.classification_report(predictions, answer)\n",
    "print(\"예측 결과의 정답률：\" + str(ac_score*100) + \"%\")\n",
    "print(\"정답데이터：\" + str(answer))\n",
    "print(\"예측 결과의 상승률:\"+ str(up_ratio) + \"%\")\t\\\n",
    "# 좀더 정확한 결과 확인 !\n",
    "print(cl_report)\n"
   ]
  },
  {
   "cell_type": "code",
   "execution_count": null,
   "metadata": {},
   "outputs": [],
   "source": []
  },
  {
   "cell_type": "code",
   "execution_count": null,
   "metadata": {},
   "outputs": [],
   "source": []
  },
  {
   "cell_type": "code",
   "execution_count": null,
   "metadata": {},
   "outputs": [],
   "source": []
  },
  {
   "cell_type": "code",
   "execution_count": null,
   "metadata": {},
   "outputs": [],
   "source": []
  },
  {
   "cell_type": "code",
   "execution_count": null,
   "metadata": {},
   "outputs": [],
   "source": []
  },
  {
   "cell_type": "code",
   "execution_count": null,
   "metadata": {},
   "outputs": [],
   "source": []
  }
 ],
 "metadata": {
  "kernelspec": {
   "display_name": "Python 3",
   "language": "python",
   "name": "python3"
  },
  "language_info": {
   "codemirror_mode": {
    "name": "ipython",
    "version": 3
   },
   "file_extension": ".py",
   "mimetype": "text/x-python",
   "name": "python",
   "nbconvert_exporter": "python",
   "pygments_lexer": "ipython3",
   "version": "3.8.3"
  }
 },
 "nbformat": 4,
 "nbformat_minor": 4
}
