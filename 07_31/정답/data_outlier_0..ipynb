{
 "cells": [
  {
   "cell_type": "markdown",
   "metadata": {},
   "source": [
    "데이터를 생성하고,이상치를 확인하기 위한 그래프를 그립니다."
   ]
  },
  {
   "cell_type": "code",
   "execution_count": 2,
   "metadata": {},
   "outputs": [
    {
     "data": {
      "image/png": "[encoded data removed]",
      "text/plain": [
       "<Figure size 432x288 with 1 Axes>"
      ]
     },
     "metadata": {
      "needs_background": "light"
     },
     "output_type": "display_data"
    }
   ],
   "source": [
    "import matplotlib.pyplot as plt\n",
    "import numpy as np\n",
    "\n",
    "# 데이터 생성\n",
    "data = np.array([1, 2, 3, 4, 5, 6, 7, 8, 9, 10, 11, 12, 13, 14, 22.1])\n",
    "\n",
    "# \n",
    "fig = plt.figure()\n",
    "fig1 = fig.add_subplot(1,2,1)\n",
    "plt.boxplot(data)\n",
    "plt.show() # 이상치가 존재 한다는것을 알 수 있다.\n"
   ]
  },
  {
   "cell_type": "markdown",
   "metadata": {},
   "source": [
    "시각화 방법 외에 IQR (Inter quantile range), 시분위 값의 편차를 사용 !\n",
    "* IQR (Q3-Q1)을 기준으로 Q3에 더한 값을 최대값, Q1에서 뺀 값을 최소값\n",
    "* 이 값의 최대/최소값을 벗어나는 값들을 이상치 (Outlier)라고 정의\n",
    "* Numpy.Percentile (타겟 데이터, 원하시는 분위수)\n"
   ]
  },
  {
   "cell_type": "code",
   "execution_count": 3,
   "metadata": {},
   "outputs": [
    {
     "data": {
      "image/png": "[encoded data removed]",
      "text/plain": [
       "<Figure size 432x288 with 1 Axes>"
      ]
     },
     "metadata": {
      "needs_background": "light"
     },
     "output_type": "display_data"
    }
   ],
   "source": [
    "Q1 = np.percentile(data,25)   # 25분위 (4.5)\n",
    "Q3 = np.percentile(data,75)   # 75분위 (11.5)\n",
    "IQR = Q3 - Q1                 # 7.0\n",
    "\n",
    "lower = Q1 - 1.5 * IQR        # -6.0\n",
    "upper = Q3 + 1.5 * IQR        # 22.0\n",
    "\n",
    "data = data[(data>=lower) & (data<=upper)]\n",
    "\n",
    "fig2 = fig.add_subplot(1,2,2)\n",
    "plt.boxplot(data)\n",
    "plt.show()\n"
   ]
  }
 ],
 "metadata": {
  "kernelspec": {
   "display_name": "Python 3",
   "language": "python",
   "name": "python3"
  },
  "language_info": {
   "codemirror_mode": {
    "name": "ipython",
    "version": 3
   },
   "file_extension": ".py",
   "mimetype": "text/x-python",
   "name": "python",
   "nbconvert_exporter": "python",
   "pygments_lexer": "ipython3",
   "version": "3.8.3"
  }
 },
 "nbformat": 4,
 "nbformat_minor": 4
}
