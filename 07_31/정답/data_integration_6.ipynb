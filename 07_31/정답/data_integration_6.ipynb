{
 "cells": [
  {
   "cell_type": "markdown",
   "metadata": {},
   "source": [
    "필요한 패키지를 import하고 사용할 데이터를 로드합니다!"
   ]
  },
  {
   "cell_type": "code",
   "execution_count": 52,
   "metadata": {},
   "outputs": [
    {
     "name": "stdout",
     "output_type": "stream",
     "text": [
      "  c1  c2  c3\n",
      "0  a   1   1\n",
      "1  a   1   1\n",
      "2  b   1   2\n",
      "3  a   2   2\n",
      "4  b   2   2\n"
     ]
    }
   ],
   "source": [
    "import pandas as pd \n",
    "\n",
    "df = pd.DataFrame({'c1':['a','a','b','a','b'], \n",
    "                   'c2':[1,1,1,2,2,],\n",
    "                   'c3':[1,1,2,2,2]})\n",
    "print(df)\n",
    "\n"
   ]
  },
  {
   "attachments": {},
   "cell_type": "markdown",
   "metadata": {},
   "source": [
    "* 데이터 프레임을 생성하고, 전체 행 데이터 중에서 중복값을 존재하는 행을 찾으세요 (Q1)\n",
    "* 중복이 존재하는 행에서 어떠한 값이 중복이 되는지 확인하고, 개수를 확인하세요 (Q2)\n",
    "* pandas.duplicated([‘key’]).sum() 함수를 사용하면 특정 열 데이터의 개수 확인 가능합니다\n"
   ]
  },
  {
   "cell_type": "code",
   "execution_count": 53,
   "metadata": {},
   "outputs": [
    {
     "name": "stdout",
     "output_type": "stream",
     "text": [
      "0    False\n",
      "1     True\n",
      "2    False\n",
      "3    False\n",
      "4    False\n",
      "dtype: bool\n",
      "3 \n",
      "\n"
     ]
    }
   ],
   "source": [
    "#데이터 프레임 전체 행 데이터 중에서 중복값 찾기 \n",
    "df_dup = df.duplicated() \n",
    "print(df_dup)\n",
    "\n",
    "# 데이터프레임의 특정 열 데이터에서 중복값 찾기 \n",
    "col_dup_sum = df['c2'].duplicated().sum() \n",
    "col_dup = df['c2'].duplicated() \n",
    "print(col_dup_sum,'\\n') # c2에서 중복되는 값이 몇개인지 확인 print(col_dup)\n"
   ]
  }
 ],
 "metadata": {
  "kernelspec": {
   "display_name": "Python 3",
   "language": "python",
   "name": "python3"
  },
  "language_info": {
   "codemirror_mode": {
    "name": "ipython",
    "version": 3
   },
   "file_extension": ".py",
   "mimetype": "text/x-python",
   "name": "python",
   "nbconvert_exporter": "python",
   "pygments_lexer": "ipython3",
   "version": "3.8.3"
  }
 },
 "nbformat": 4,
 "nbformat_minor": 4
}
