{
 "cells": [
  {
   "cell_type": "markdown",
   "metadata": {
    "id": "phwbcZ3f3K5H"
   },
   "source": [
    "# 머신러닝을 이용한 타이타닉 생존자 예측"
   ]
  },
  {
   "cell_type": "markdown",
   "metadata": {
    "id": "i5ndNBZ-3Qqz"
   },
   "source": [
    "1.1 데이터 로드  \n",
    "titanic 데이터를 로드하여 데이터의 일부분을 확인합니다.  \n",
    "이때 head 함수를 사용하여 상위 5개의 레코드 값을 확인합니다."
   ]
  },
  {
   "cell_type": "code",
   "execution_count": null,
   "metadata": {
    "colab": {
     "base_uri": "https://localhost:8080/",
     "height": 204
    },
    "id": "OqwMRJtN3Nh4",
    "outputId": "17764c89-0ca2-4037-feff-bb78cb051b4a"
   },
   "outputs": [
    {
     "data": {
      "text/html": [
       "<div>\n",
       "<style scoped>\n",
       "    .dataframe tbody tr th:only-of-type {\n",
       "        vertical-align: middle;\n",
       "    }\n",
       "\n",
       "    .dataframe tbody tr th {\n",
       "        vertical-align: top;\n",
       "    }\n",
       "\n",
       "    .dataframe thead th {\n",
       "        text-align: right;\n",
       "    }\n",
       "</style>\n",
       "<table border=\"1\" class=\"dataframe\">\n",
       "  <thead>\n",
       "    <tr style=\"text-align: right;\">\n",
       "      <th></th>\n",
       "      <th>pclass</th>\n",
       "      <th>survived</th>\n",
       "      <th>name</th>\n",
       "      <th>sex</th>\n",
       "      <th>age</th>\n",
       "      <th>sibsp</th>\n",
       "      <th>parch</th>\n",
       "      <th>ticket</th>\n",
       "      <th>fare</th>\n",
       "      <th>cabin</th>\n",
       "      <th>embarked</th>\n",
       "      <th>boat</th>\n",
       "      <th>body</th>\n",
       "      <th>home.dest</th>\n",
       "    </tr>\n",
       "  </thead>\n",
       "  <tbody>\n",
       "    <tr>\n",
       "      <th>0</th>\n",
       "      <td>1</td>\n",
       "      <td>1</td>\n",
       "      <td>Allen, Miss. Elisabeth Walton</td>\n",
       "      <td>female</td>\n",
       "      <td>29.0000</td>\n",
       "      <td>0</td>\n",
       "      <td>0</td>\n",
       "      <td>24160</td>\n",
       "      <td>211.3375</td>\n",
       "      <td>B5</td>\n",
       "      <td>S</td>\n",
       "      <td>2</td>\n",
       "      <td>NaN</td>\n",
       "      <td>St Louis, MO</td>\n",
       "    </tr>\n",
       "    <tr>\n",
       "      <th>1</th>\n",
       "      <td>1</td>\n",
       "      <td>1</td>\n",
       "      <td>Allison, Master. Hudson Trevor</td>\n",
       "      <td>male</td>\n",
       "      <td>0.9167</td>\n",
       "      <td>1</td>\n",
       "      <td>2</td>\n",
       "      <td>113781</td>\n",
       "      <td>151.5500</td>\n",
       "      <td>C22 C26</td>\n",
       "      <td>S</td>\n",
       "      <td>11</td>\n",
       "      <td>NaN</td>\n",
       "      <td>Montreal, PQ / Chesterville, ON</td>\n",
       "    </tr>\n",
       "    <tr>\n",
       "      <th>2</th>\n",
       "      <td>1</td>\n",
       "      <td>0</td>\n",
       "      <td>Allison, Miss. Helen Loraine</td>\n",
       "      <td>female</td>\n",
       "      <td>2.0000</td>\n",
       "      <td>1</td>\n",
       "      <td>2</td>\n",
       "      <td>113781</td>\n",
       "      <td>151.5500</td>\n",
       "      <td>C22 C26</td>\n",
       "      <td>S</td>\n",
       "      <td>NaN</td>\n",
       "      <td>NaN</td>\n",
       "      <td>Montreal, PQ / Chesterville, ON</td>\n",
       "    </tr>\n",
       "    <tr>\n",
       "      <th>3</th>\n",
       "      <td>1</td>\n",
       "      <td>0</td>\n",
       "      <td>Allison, Mr. Hudson Joshua Creighton</td>\n",
       "      <td>male</td>\n",
       "      <td>30.0000</td>\n",
       "      <td>1</td>\n",
       "      <td>2</td>\n",
       "      <td>113781</td>\n",
       "      <td>151.5500</td>\n",
       "      <td>C22 C26</td>\n",
       "      <td>S</td>\n",
       "      <td>NaN</td>\n",
       "      <td>135.0</td>\n",
       "      <td>Montreal, PQ / Chesterville, ON</td>\n",
       "    </tr>\n",
       "    <tr>\n",
       "      <th>4</th>\n",
       "      <td>1</td>\n",
       "      <td>0</td>\n",
       "      <td>Allison, Mrs. Hudson J C (Bessie Waldo Daniels)</td>\n",
       "      <td>female</td>\n",
       "      <td>25.0000</td>\n",
       "      <td>1</td>\n",
       "      <td>2</td>\n",
       "      <td>113781</td>\n",
       "      <td>151.5500</td>\n",
       "      <td>C22 C26</td>\n",
       "      <td>S</td>\n",
       "      <td>NaN</td>\n",
       "      <td>NaN</td>\n",
       "      <td>Montreal, PQ / Chesterville, ON</td>\n",
       "    </tr>\n",
       "  </tbody>\n",
       "</table>\n",
       "</div>"
      ],
      "text/plain": [
       "   pclass  survived  ...   body                        home.dest\n",
       "0       1         1  ...    NaN                     St Louis, MO\n",
       "1       1         1  ...    NaN  Montreal, PQ / Chesterville, ON\n",
       "2       1         0  ...    NaN  Montreal, PQ / Chesterville, ON\n",
       "3       1         0  ...  135.0  Montreal, PQ / Chesterville, ON\n",
       "4       1         0  ...    NaN  Montreal, PQ / Chesterville, ON\n",
       "\n",
       "[5 rows x 14 columns]"
      ]
     },
     "execution_count": 14,
     "metadata": {
      "tags": []
     },
     "output_type": "execute_result"
    }
   ],
   "source": [
    "import pandas as pd\n",
    "\n",
    "titanic = pd.read_excel('https://github.com/hmkim312/datas/blob/main/titanic/titanic.xls?raw=true')\n",
    "titanic.?"
   ]
  },
  {
   "cell_type": "markdown",
   "metadata": {
    "id": "brKC-tJO3f8n"
   },
   "source": [
    "타이타닉은 1910년 당시 최대의 여객선으로 영국에거 미국 뉴욕으로 가던 여객선으로 다음의 정보를 포함합니다.\n",
    "* Pclass : 객실 등급\n",
    "* Survived : 생존 유무\n",
    "* Sex : 성별\n",
    "* Name : 이름\n",
    "* Age : 나이\n",
    "* Sibsp : 형제 혹은 부부의 수\n",
    "* Parch : 부모 혹은 자녀의 수\n",
    "* Fare : 지불한 요금\n",
    "* Boat : 탈출시 사용한 보트 번호"
   ]
  },
  {
   "cell_type": "markdown",
   "metadata": {
    "id": "zX9M3XCP4Fq0"
   },
   "source": [
    "1.2 데이터 확인 (생존상황)  \n",
    "데이터의 특성을 분석하기 위해 첫번째로, 생존 상황을 분석합니다.  \n",
    "생존 상황은 살아남은 사람들의 숫자와 비율을 먼저 확인합니다!"
   ]
  },
  {
   "cell_type": "code",
   "execution_count": null,
   "metadata": {
    "colab": {
     "base_uri": "https://localhost:8080/",
     "height": 567
    },
    "id": "dRl8p692iTz4",
    "outputId": "6193077a-1388-4bb7-9904-2629a62f6ea1"
   },
   "outputs": [
    {
     "name": "stderr",
     "output_type": "stream",
     "text": [
      "/usr/local/lib/python3.7/dist-packages/seaborn/_decorators.py:43: FutureWarning: Pass the following variable as a keyword arg: x. From version 0.12, the only valid positional argument will be `data`, and passing other arguments without an explicit keyword will result in an error or misinterpretation.\n",
      "  FutureWarning\n"
     ]
    },
    {
     "data": {
      "image/png": "[encoded data removed]",
      "text/plain": [
       "<Figure size 1296x576 with 2 Axes>"
      ]
     },
     "metadata": {
      "needs_background": "light",
      "tags": []
     },
     "output_type": "display_data"
    }
   ],
   "source": [
    "import matplotlib.pyplot as plt\n",
    "import seaborn as sns\n",
    "\n",
    "f, ax = plt.subplots(1, 2, figsize=(18, 8))\n",
    "\n",
    "titanic['survived'].value_counts().plot.pie(\n",
    "    explode=[0, 0.1], autopct='%1.1f%%', ax=ax[0], shadow=True)\n",
    "\n",
    "ax[0].set_title('Pie plot - Survived')\n",
    "ax[0].set_ylabel('')\n",
    "sns.countplot('survived', data=titanic, ax=ax[1])\n",
    "ax[1].set_title('Count plot - Survived')\n",
    "plt.show()"
   ]
  },
  {
   "cell_type": "markdown",
   "metadata": {
    "id": "3mPQkp1u4fCh"
   },
   "source": [
    "1.3 성별에 따른 생존 상황   \n",
    "데이터의 특성을 분석하기 위해 두번째로, 성별에 따른 생존 상황을 분석합니다.  \n",
    "성별에 따른 생존 상황은 성별에 따른 생존자와 사망자의 숫자를 성별에 따라 확인합니다.  \n",
    "countplot의 hue 옵션으로 bar 구분이 가능합니다.\n",
    "예제에서는 survivied에 따른 결과를 확인 할 수 있도록 합니다 !"
   ]
  },
  {
   "cell_type": "code",
   "execution_count": null,
   "metadata": {
    "colab": {
     "base_uri": "https://localhost:8080/",
     "height": 601
    },
    "id": "7mzFE0ap4fSw",
    "outputId": "bc70fb20-4ae2-49a5-f955-23f93a229982"
   },
   "outputs": [
    {
     "name": "stderr",
     "output_type": "stream",
     "text": [
      "/usr/local/lib/python3.7/dist-packages/seaborn/_decorators.py:43: FutureWarning: Pass the following variable as a keyword arg: x. From version 0.12, the only valid positional argument will be `data`, and passing other arguments without an explicit keyword will result in an error or misinterpretation.\n",
      "  FutureWarning\n",
      "/usr/local/lib/python3.7/dist-packages/seaborn/_decorators.py:43: FutureWarning: Pass the following variable as a keyword arg: x. From version 0.12, the only valid positional argument will be `data`, and passing other arguments without an explicit keyword will result in an error or misinterpretation.\n",
      "  FutureWarning\n"
     ]
    },
    {
     "data": {
      "image/png": "[encoded data removed]",
      "text/plain": [
       "<Figure size 1296x576 with 2 Axes>"
      ]
     },
     "metadata": {
      "needs_background": "light",
      "tags": []
     },
     "output_type": "display_data"
    }
   ],
   "source": [
    "f, ax = plt.subplots(1, 2, figsize = (18, 8))\n",
    "\n",
    "sns.countplot('sex', data = titanic, ax=ax[0])\n",
    "ax[0].set_title('Count of Passengers of Sex')\n",
    "ax[0].set_ylabel('')\n",
    "\n",
    "sns.countplot('sex', hue = ?, data = titanic, ax=ax[1])\n",
    "ax[1].set_title('Sex:Survived and Unsurvived')\n",
    "plt.show()"
   ]
  },
  {
   "cell_type": "markdown",
   "metadata": {
    "id": "temRdUO259aQ"
   },
   "source": [
    "1.4 나이를 5단계로 범주화  \n",
    "생존/사망자의 나이를 구간을 나눠 범주화를 진행합니다.   \n",
    "0-7은 baby, 7-15는 teen, 15-30은 young, 30-60은 adult, 60-100은 old로 합니다.  \n",
    "이때, \"pandas.cut (X, bins, labels)\" 함수를 사용합니다.  \n",
    "bins [start, end]는 start 초과, end 미만의 값을 사용합니다.  \n",
    "여기서는 titanic의 age 컬럼에 해당되는 열을 사용하여, 범주화를 진행합니다 !\n"
   ]
  },
  {
   "cell_type": "code",
   "execution_count": null,
   "metadata": {
    "colab": {
     "base_uri": "https://localhost:8080/",
     "height": 204
    },
    "id": "kOhwB8Lp59ka",
    "outputId": "f8588481-60c3-4446-8796-5faaaec5e338"
   },
   "outputs": [
    {
     "data": {
      "text/html": [
       "<div>\n",
       "<style scoped>\n",
       "    .dataframe tbody tr th:only-of-type {\n",
       "        vertical-align: middle;\n",
       "    }\n",
       "\n",
       "    .dataframe tbody tr th {\n",
       "        vertical-align: top;\n",
       "    }\n",
       "\n",
       "    .dataframe thead th {\n",
       "        text-align: right;\n",
       "    }\n",
       "</style>\n",
       "<table border=\"1\" class=\"dataframe\">\n",
       "  <thead>\n",
       "    <tr style=\"text-align: right;\">\n",
       "      <th></th>\n",
       "      <th>pclass</th>\n",
       "      <th>survived</th>\n",
       "      <th>name</th>\n",
       "      <th>sex</th>\n",
       "      <th>age</th>\n",
       "      <th>sibsp</th>\n",
       "      <th>parch</th>\n",
       "      <th>ticket</th>\n",
       "      <th>fare</th>\n",
       "      <th>cabin</th>\n",
       "      <th>embarked</th>\n",
       "      <th>boat</th>\n",
       "      <th>body</th>\n",
       "      <th>home.dest</th>\n",
       "      <th>age_cat</th>\n",
       "    </tr>\n",
       "  </thead>\n",
       "  <tbody>\n",
       "    <tr>\n",
       "      <th>0</th>\n",
       "      <td>1</td>\n",
       "      <td>1</td>\n",
       "      <td>Allen, Miss. Elisabeth Walton</td>\n",
       "      <td>female</td>\n",
       "      <td>29.0000</td>\n",
       "      <td>0</td>\n",
       "      <td>0</td>\n",
       "      <td>24160</td>\n",
       "      <td>211.3375</td>\n",
       "      <td>B5</td>\n",
       "      <td>S</td>\n",
       "      <td>2</td>\n",
       "      <td>NaN</td>\n",
       "      <td>St Louis, MO</td>\n",
       "      <td>young</td>\n",
       "    </tr>\n",
       "    <tr>\n",
       "      <th>1</th>\n",
       "      <td>1</td>\n",
       "      <td>1</td>\n",
       "      <td>Allison, Master. Hudson Trevor</td>\n",
       "      <td>male</td>\n",
       "      <td>0.9167</td>\n",
       "      <td>1</td>\n",
       "      <td>2</td>\n",
       "      <td>113781</td>\n",
       "      <td>151.5500</td>\n",
       "      <td>C22 C26</td>\n",
       "      <td>S</td>\n",
       "      <td>11</td>\n",
       "      <td>NaN</td>\n",
       "      <td>Montreal, PQ / Chesterville, ON</td>\n",
       "      <td>baby</td>\n",
       "    </tr>\n",
       "    <tr>\n",
       "      <th>2</th>\n",
       "      <td>1</td>\n",
       "      <td>0</td>\n",
       "      <td>Allison, Miss. Helen Loraine</td>\n",
       "      <td>female</td>\n",
       "      <td>2.0000</td>\n",
       "      <td>1</td>\n",
       "      <td>2</td>\n",
       "      <td>113781</td>\n",
       "      <td>151.5500</td>\n",
       "      <td>C22 C26</td>\n",
       "      <td>S</td>\n",
       "      <td>NaN</td>\n",
       "      <td>NaN</td>\n",
       "      <td>Montreal, PQ / Chesterville, ON</td>\n",
       "      <td>baby</td>\n",
       "    </tr>\n",
       "    <tr>\n",
       "      <th>3</th>\n",
       "      <td>1</td>\n",
       "      <td>0</td>\n",
       "      <td>Allison, Mr. Hudson Joshua Creighton</td>\n",
       "      <td>male</td>\n",
       "      <td>30.0000</td>\n",
       "      <td>1</td>\n",
       "      <td>2</td>\n",
       "      <td>113781</td>\n",
       "      <td>151.5500</td>\n",
       "      <td>C22 C26</td>\n",
       "      <td>S</td>\n",
       "      <td>NaN</td>\n",
       "      <td>135.0</td>\n",
       "      <td>Montreal, PQ / Chesterville, ON</td>\n",
       "      <td>young</td>\n",
       "    </tr>\n",
       "    <tr>\n",
       "      <th>4</th>\n",
       "      <td>1</td>\n",
       "      <td>0</td>\n",
       "      <td>Allison, Mrs. Hudson J C (Bessie Waldo Daniels)</td>\n",
       "      <td>female</td>\n",
       "      <td>25.0000</td>\n",
       "      <td>1</td>\n",
       "      <td>2</td>\n",
       "      <td>113781</td>\n",
       "      <td>151.5500</td>\n",
       "      <td>C22 C26</td>\n",
       "      <td>S</td>\n",
       "      <td>NaN</td>\n",
       "      <td>NaN</td>\n",
       "      <td>Montreal, PQ / Chesterville, ON</td>\n",
       "      <td>young</td>\n",
       "    </tr>\n",
       "  </tbody>\n",
       "</table>\n",
       "</div>"
      ],
      "text/plain": [
       "   pclass  survived  ...                        home.dest age_cat\n",
       "0       1         1  ...                     St Louis, MO   young\n",
       "1       1         1  ...  Montreal, PQ / Chesterville, ON    baby\n",
       "2       1         0  ...  Montreal, PQ / Chesterville, ON    baby\n",
       "3       1         0  ...  Montreal, PQ / Chesterville, ON   young\n",
       "4       1         0  ...  Montreal, PQ / Chesterville, ON   young\n",
       "\n",
       "[5 rows x 15 columns]"
      ]
     },
     "execution_count": 20,
     "metadata": {
      "tags": []
     },
     "output_type": "execute_result"
    }
   ],
   "source": [
    "titanic['age_cat'] = pd.cut(?, bins=?,\n",
    "                            include_lowest=True, labels=?)\n",
    "titanic.head()"
   ]
  },
  {
   "cell_type": "markdown",
   "metadata": {
    "id": "5gtiE2mk4kkn"
   },
   "source": [
    "1.5 경재력 대비 생존률  \n",
    "pandas의 crosstab은 범주형 변수로 되어있는 요인별로 교차분석을 진행하여 도수분포표, 교차표를 만드는 함수 입니다.  \n",
    "pd.crosstab(index, columns) 함수는 행과 열의 데이터에 따른 교차표를 보여주며, margins=True 합계를 나타내는 옵션입니다.\n"
   ]
  },
  {
   "cell_type": "code",
   "execution_count": null,
   "metadata": {
    "colab": {
     "base_uri": "https://localhost:8080/",
     "height": 204
    },
    "id": "jVX4rf894kwX",
    "outputId": "8051210f-5e11-4757-fc9f-66df56655fd4"
   },
   "outputs": [
    {
     "data": {
      "text/html": [
       "<div>\n",
       "<style scoped>\n",
       "    .dataframe tbody tr th:only-of-type {\n",
       "        vertical-align: middle;\n",
       "    }\n",
       "\n",
       "    .dataframe tbody tr th {\n",
       "        vertical-align: top;\n",
       "    }\n",
       "\n",
       "    .dataframe thead th {\n",
       "        text-align: right;\n",
       "    }\n",
       "</style>\n",
       "<table border=\"1\" class=\"dataframe\">\n",
       "  <thead>\n",
       "    <tr style=\"text-align: right;\">\n",
       "      <th>survived</th>\n",
       "      <th>0</th>\n",
       "      <th>1</th>\n",
       "      <th>All</th>\n",
       "    </tr>\n",
       "    <tr>\n",
       "      <th>pclass</th>\n",
       "      <th></th>\n",
       "      <th></th>\n",
       "      <th></th>\n",
       "    </tr>\n",
       "  </thead>\n",
       "  <tbody>\n",
       "    <tr>\n",
       "      <th>1</th>\n",
       "      <td>123</td>\n",
       "      <td>200</td>\n",
       "      <td>323</td>\n",
       "    </tr>\n",
       "    <tr>\n",
       "      <th>2</th>\n",
       "      <td>158</td>\n",
       "      <td>119</td>\n",
       "      <td>277</td>\n",
       "    </tr>\n",
       "    <tr>\n",
       "      <th>3</th>\n",
       "      <td>528</td>\n",
       "      <td>181</td>\n",
       "      <td>709</td>\n",
       "    </tr>\n",
       "    <tr>\n",
       "      <th>All</th>\n",
       "      <td>809</td>\n",
       "      <td>500</td>\n",
       "      <td>1309</td>\n",
       "    </tr>\n",
       "  </tbody>\n",
       "</table>\n",
       "</div>"
      ],
      "text/plain": [
       "survived    0    1   All\n",
       "pclass                  \n",
       "1         123  200   323\n",
       "2         158  119   277\n",
       "3         528  181   709\n",
       "All       809  500  1309"
      ]
     },
     "execution_count": 21,
     "metadata": {
      "tags": []
     },
     "output_type": "execute_result"
    }
   ],
   "source": [
    "# 타이타닉의 pclass 컬럼과 survived 컬럼을 사용하며, margins=True 옵션을 적용합니다.\n",
    "pd.?(?, ?, margins=True)"
   ]
  },
  {
   "cell_type": "markdown",
   "metadata": {
    "id": "wJCk3k5I4r_T"
   },
   "source": [
    "* 1등실의 생존 가능성이 아주 높음\n",
    "* 여성의 생존률도 높음\n",
    "* 1등실에는 여성이 많이 타고있었는가?"
   ]
  },
  {
   "cell_type": "markdown",
   "metadata": {
    "id": "QRYLdZCy6GFh"
   },
   "source": [
    "1.6 나이, 성별, 등급별 생존자 숫자를 한번에 파악"
   ]
  },
  {
   "cell_type": "code",
   "execution_count": null,
   "metadata": {
    "colab": {
     "base_uri": "https://localhost:8080/",
     "height": 447
    },
    "id": "fwLe4oYd6LEC",
    "outputId": "81f275e7-6715-48e6-93a5-b2a8e0240cf7"
   },
   "outputs": [
    {
     "name": "stderr",
     "output_type": "stream",
     "text": [
      "/usr/local/lib/python3.7/dist-packages/seaborn/_decorators.py:43: FutureWarning: Pass the following variables as keyword args: x, y. From version 0.12, the only valid positional argument will be `data`, and passing other arguments without an explicit keyword will result in an error or misinterpretation.\n",
      "  FutureWarning\n",
      "/usr/local/lib/python3.7/dist-packages/seaborn/_decorators.py:43: FutureWarning: Pass the following variables as keyword args: x, y. From version 0.12, the only valid positional argument will be `data`, and passing other arguments without an explicit keyword will result in an error or misinterpretation.\n",
      "  FutureWarning\n",
      "/usr/local/lib/python3.7/dist-packages/seaborn/_decorators.py:43: FutureWarning: Pass the following variables as keyword args: x, y. From version 0.12, the only valid positional argument will be `data`, and passing other arguments without an explicit keyword will result in an error or misinterpretation.\n",
      "  FutureWarning\n"
     ]
    },
    {
     "data": {
      "image/png": "[encoded data removed]",
      "text/plain": [
       "<Figure size 864x288 with 3 Axes>"
      ]
     },
     "metadata": {
      "needs_background": "light",
      "tags": []
     },
     "output_type": "display_data"
    }
   ],
   "source": [
    "plt.figure(figsize=(12, 4))\n",
    "plt.subplot(131)\n",
    "sns.barplot('pclass', 'survived', data=titanic)\n",
    "plt.subplot(132)\n",
    "sns.barplot('age_cat', 'survived', data=titanic)\n",
    "plt.subplot(133)\n",
    "sns.barplot('sex', 'survived', data=titanic)\n",
    "plt.subplots_adjust(top=1, bottom=0.1, left=0.1,\n",
    "                    right=1, hspace=0.5, wspace=0.5)\n",
    "plt.show()"
   ]
  },
  {
   "cell_type": "markdown",
   "metadata": {
    "id": "fJvgU0aZ6Pxm"
   },
   "source": [
    "2. 머신러닝을 이용한 생존자 예측"
   ]
  },
  {
   "cell_type": "markdown",
   "metadata": {
    "id": "rfheEIqN6gKZ"
   },
   "source": [
    "2.1 구조확인"
   ]
  },
  {
   "cell_type": "code",
   "execution_count": null,
   "metadata": {
    "colab": {
     "base_uri": "https://localhost:8080/"
    },
    "id": "uo204NCW6XJ4",
    "outputId": "422dc725-3bd3-42f3-dadd-b7ae9465e2a4"
   },
   "outputs": [
    {
     "name": "stdout",
     "output_type": "stream",
     "text": [
      "<class 'pandas.core.frame.DataFrame'>\n",
      "RangeIndex: 1309 entries, 0 to 1308\n",
      "Data columns (total 15 columns):\n",
      " #   Column     Non-Null Count  Dtype   \n",
      "---  ------     --------------  -----   \n",
      " 0   pclass     1309 non-null   int64   \n",
      " 1   survived   1309 non-null   int64   \n",
      " 2   name       1309 non-null   object  \n",
      " 3   sex        1309 non-null   object  \n",
      " 4   age        1046 non-null   float64 \n",
      " 5   sibsp      1309 non-null   int64   \n",
      " 6   parch      1309 non-null   int64   \n",
      " 7   ticket     1309 non-null   object  \n",
      " 8   fare       1308 non-null   float64 \n",
      " 9   cabin      295 non-null    object  \n",
      " 10  embarked   1307 non-null   object  \n",
      " 11  boat       486 non-null    object  \n",
      " 12  body       121 non-null    float64 \n",
      " 13  home.dest  745 non-null    object  \n",
      " 14  age_cat    1046 non-null   category\n",
      "dtypes: category(1), float64(3), int64(4), object(7)\n",
      "memory usage: 144.8+ KB\n"
     ]
    }
   ],
   "source": [
    "titanic.info()"
   ]
  },
  {
   "cell_type": "markdown",
   "metadata": {
    "id": "H-4rZQOz6kVn"
   },
   "source": [
    "* null값의 처리와, 라벨인코딩도 필요"
   ]
  },
  {
   "cell_type": "markdown",
   "metadata": {
    "id": "SNpsRuvD6oUP"
   },
   "source": [
    "2.2 성별 컴럼을 숫자로 변경하기\n",
    "pandas의 uniqueue 함수는 DataFrame의 단일 연을 처리하고, 열의 모든 고유 요소를 반환할 때 사용합니다.  \n",
    "unique함수를 사용하여 성별 ('sex')에 해당되는 속성의 고유 요소를 확인하세요."
   ]
  },
  {
   "cell_type": "code",
   "execution_count": null,
   "metadata": {
    "colab": {
     "base_uri": "https://localhost:8080/"
    },
    "id": "cG5WopbO6tUI",
    "outputId": "8365b44a-3588-4759-ae66-eb421f7f1aa6"
   },
   "outputs": [
    {
     "data": {
      "text/plain": [
       "array(['female', 'male'], dtype=object)"
      ]
     },
     "execution_count": 24,
     "metadata": {
      "tags": []
     },
     "output_type": "execute_result"
    }
   ],
   "source": [
    "titanic['sex'].?()\n"
   ]
  },
  {
   "cell_type": "markdown",
   "metadata": {
    "id": "3vUFk4Bc6xVM"
   },
   "source": [
    "2.3 Label Encode 사용  \n",
    "LabelEncoder는 문자를 0부터 시작하는 정수형 숫자로 바꿔주는 기능을 제공   \n",
    "반대로 (라벨) 코드 숫자를 이용하여 원본을 구하는 것도 가능  \n",
    "LabelEncoder 객체를 생성한 후, 수치화시키고자 하는 filed를 해당 객체 (fit)를 통해서 변형 (transform)  \n",
    "fit 함수를 사용하여 수치화하려는 대상을 지정, transform을 사용하여 수치화하려는 대상을 변형"
   ]
  },
  {
   "cell_type": "code",
   "execution_count": null,
   "metadata": {
    "colab": {
     "base_uri": "https://localhost:8080/",
     "height": 204
    },
    "id": "_eVjaDTx6xes",
    "outputId": "f66774df-a203-4b78-d4ed-6316e48e3da6"
   },
   "outputs": [
    {
     "data": {
      "text/html": [
       "<div>\n",
       "<style scoped>\n",
       "    .dataframe tbody tr th:only-of-type {\n",
       "        vertical-align: middle;\n",
       "    }\n",
       "\n",
       "    .dataframe tbody tr th {\n",
       "        vertical-align: top;\n",
       "    }\n",
       "\n",
       "    .dataframe thead th {\n",
       "        text-align: right;\n",
       "    }\n",
       "</style>\n",
       "<table border=\"1\" class=\"dataframe\">\n",
       "  <thead>\n",
       "    <tr style=\"text-align: right;\">\n",
       "      <th></th>\n",
       "      <th>pclass</th>\n",
       "      <th>survived</th>\n",
       "      <th>name</th>\n",
       "      <th>sex</th>\n",
       "      <th>age</th>\n",
       "      <th>sibsp</th>\n",
       "      <th>parch</th>\n",
       "      <th>ticket</th>\n",
       "      <th>fare</th>\n",
       "      <th>cabin</th>\n",
       "      <th>embarked</th>\n",
       "      <th>boat</th>\n",
       "      <th>body</th>\n",
       "      <th>home.dest</th>\n",
       "      <th>age_cat</th>\n",
       "      <th>gender</th>\n",
       "    </tr>\n",
       "  </thead>\n",
       "  <tbody>\n",
       "    <tr>\n",
       "      <th>0</th>\n",
       "      <td>1</td>\n",
       "      <td>1</td>\n",
       "      <td>Allen, Miss. Elisabeth Walton</td>\n",
       "      <td>female</td>\n",
       "      <td>29.0000</td>\n",
       "      <td>0</td>\n",
       "      <td>0</td>\n",
       "      <td>24160</td>\n",
       "      <td>211.3375</td>\n",
       "      <td>B5</td>\n",
       "      <td>S</td>\n",
       "      <td>2</td>\n",
       "      <td>NaN</td>\n",
       "      <td>St Louis, MO</td>\n",
       "      <td>young</td>\n",
       "      <td>0</td>\n",
       "    </tr>\n",
       "    <tr>\n",
       "      <th>1</th>\n",
       "      <td>1</td>\n",
       "      <td>1</td>\n",
       "      <td>Allison, Master. Hudson Trevor</td>\n",
       "      <td>male</td>\n",
       "      <td>0.9167</td>\n",
       "      <td>1</td>\n",
       "      <td>2</td>\n",
       "      <td>113781</td>\n",
       "      <td>151.5500</td>\n",
       "      <td>C22 C26</td>\n",
       "      <td>S</td>\n",
       "      <td>11</td>\n",
       "      <td>NaN</td>\n",
       "      <td>Montreal, PQ / Chesterville, ON</td>\n",
       "      <td>baby</td>\n",
       "      <td>1</td>\n",
       "    </tr>\n",
       "    <tr>\n",
       "      <th>2</th>\n",
       "      <td>1</td>\n",
       "      <td>0</td>\n",
       "      <td>Allison, Miss. Helen Loraine</td>\n",
       "      <td>female</td>\n",
       "      <td>2.0000</td>\n",
       "      <td>1</td>\n",
       "      <td>2</td>\n",
       "      <td>113781</td>\n",
       "      <td>151.5500</td>\n",
       "      <td>C22 C26</td>\n",
       "      <td>S</td>\n",
       "      <td>NaN</td>\n",
       "      <td>NaN</td>\n",
       "      <td>Montreal, PQ / Chesterville, ON</td>\n",
       "      <td>baby</td>\n",
       "      <td>0</td>\n",
       "    </tr>\n",
       "    <tr>\n",
       "      <th>3</th>\n",
       "      <td>1</td>\n",
       "      <td>0</td>\n",
       "      <td>Allison, Mr. Hudson Joshua Creighton</td>\n",
       "      <td>male</td>\n",
       "      <td>30.0000</td>\n",
       "      <td>1</td>\n",
       "      <td>2</td>\n",
       "      <td>113781</td>\n",
       "      <td>151.5500</td>\n",
       "      <td>C22 C26</td>\n",
       "      <td>S</td>\n",
       "      <td>NaN</td>\n",
       "      <td>135.0</td>\n",
       "      <td>Montreal, PQ / Chesterville, ON</td>\n",
       "      <td>young</td>\n",
       "      <td>1</td>\n",
       "    </tr>\n",
       "    <tr>\n",
       "      <th>4</th>\n",
       "      <td>1</td>\n",
       "      <td>0</td>\n",
       "      <td>Allison, Mrs. Hudson J C (Bessie Waldo Daniels)</td>\n",
       "      <td>female</td>\n",
       "      <td>25.0000</td>\n",
       "      <td>1</td>\n",
       "      <td>2</td>\n",
       "      <td>113781</td>\n",
       "      <td>151.5500</td>\n",
       "      <td>C22 C26</td>\n",
       "      <td>S</td>\n",
       "      <td>NaN</td>\n",
       "      <td>NaN</td>\n",
       "      <td>Montreal, PQ / Chesterville, ON</td>\n",
       "      <td>young</td>\n",
       "      <td>0</td>\n",
       "    </tr>\n",
       "  </tbody>\n",
       "</table>\n",
       "</div>"
      ],
      "text/plain": [
       "   pclass  survived  ... age_cat gender\n",
       "0       1         1  ...   young      0\n",
       "1       1         1  ...    baby      1\n",
       "2       1         0  ...    baby      0\n",
       "3       1         0  ...   young      1\n",
       "4       1         0  ...   young      0\n",
       "\n",
       "[5 rows x 16 columns]"
      ]
     },
     "execution_count": 25,
     "metadata": {
      "tags": []
     },
     "output_type": "execute_result"
    }
   ],
   "source": [
    "from sklearn.preprocessing import LabelEncoder\n",
    "\n",
    "le = LabelEncoder()\n",
    "le.?(titanic['sex'])\n",
    "titanic['gender'] = le.?\n",
    "titanic.head()"
   ]
  },
  {
   "cell_type": "markdown",
   "metadata": {
    "id": "ttTMpn0V9J5K"
   },
   "source": [
    "* gender라는 컬럼을 생성하여 성별을 변경"
   ]
  },
  {
   "cell_type": "markdown",
   "metadata": {
    "id": "tTbeV8HP9LS8"
   },
   "source": [
    "2.4 결측치 제외   \n",
    "결측치가 아닌 항목을 확인하려면 notnull() 함수를 사용합니다."
   ]
  },
  {
   "cell_type": "code",
   "execution_count": null,
   "metadata": {
    "colab": {
     "base_uri": "https://localhost:8080/"
    },
    "id": "4wF-y3GN95p2",
    "outputId": "c193dc34-8d12-4ad0-ea78-8557ae9cf484"
   },
   "outputs": [
    {
     "name": "stdout",
     "output_type": "stream",
     "text": [
      "<class 'pandas.core.frame.DataFrame'>\n",
      "Int64Index: 1045 entries, 0 to 1308\n",
      "Data columns (total 16 columns):\n",
      " #   Column     Non-Null Count  Dtype   \n",
      "---  ------     --------------  -----   \n",
      " 0   pclass     1045 non-null   int64   \n",
      " 1   survived   1045 non-null   int64   \n",
      " 2   name       1045 non-null   object  \n",
      " 3   sex        1045 non-null   object  \n",
      " 4   age        1045 non-null   float64 \n",
      " 5   sibsp      1045 non-null   int64   \n",
      " 6   parch      1045 non-null   int64   \n",
      " 7   ticket     1045 non-null   object  \n",
      " 8   fare       1045 non-null   float64 \n",
      " 9   cabin      272 non-null    object  \n",
      " 10  embarked   1043 non-null   object  \n",
      " 11  boat       417 non-null    object  \n",
      " 12  body       119 non-null    float64 \n",
      " 13  home.dest  685 non-null    object  \n",
      " 14  age_cat    1045 non-null   category\n",
      " 15  gender     1045 non-null   int64   \n",
      "dtypes: category(1), float64(3), int64(5), object(7)\n",
      "memory usage: 131.8+ KB\n"
     ]
    }
   ],
   "source": [
    "titanic = titanic[titanic['age'].?]\n",
    "titanic = titanic[titanic['fare'].?]\n",
    "titanic.info()"
   ]
  },
  {
   "cell_type": "markdown",
   "metadata": {
    "id": "HQueU5MG-AkV"
   },
   "source": [
    "2.5 상관관계"
   ]
  },
  {
   "cell_type": "code",
   "execution_count": null,
   "metadata": {
    "colab": {
     "base_uri": "https://localhost:8080/",
     "height": 302
    },
    "id": "OIb1DHKy-Atu",
    "outputId": "f78def0b-7f99-48fc-cd0d-547efee785c4"
   },
   "outputs": [
    {
     "data": {
      "image/png": "[encoded data removed]",
      "text/plain": [
       "<Figure size 432x288 with 2 Axes>"
      ]
     },
     "metadata": {
      "needs_background": "light",
      "tags": []
     },
     "output_type": "display_data"
    }
   ],
   "source": [
    "correlation_matrix = titanic.corr().round(1)\n",
    "sns.heatmap(data=correlation_matrix, annot=True, cmap='bwr')\n",
    "plt.show()"
   ]
  },
  {
   "cell_type": "markdown",
   "metadata": {
    "id": "BMZqBVng-Pad"
   },
   "source": [
    "실수형 데이터들의 상관관계를 보았을때, 생존(Survived)는 성별과 pclass의 상관관계가 높음을 확인"
   ]
  },
  {
   "cell_type": "markdown",
   "metadata": {
    "id": "CUPDarqv-Ku7"
   },
   "source": [
    "2.6 특정 선택 후 데이터 나누기  \n",
    "데이터 셋을 학습과 검증용으로 나누기 위해서는 train_test_split 함수를 사용합니다.  \n",
    "이때, test_size옵션을 사용하여 비율을 결정합니다.  \n",
    "여기에서는 테스트 셋의 크기가 20%가 되도록 합니다."
   ]
  },
  {
   "cell_type": "code",
   "execution_count": null,
   "metadata": {
    "id": "W4-83eMq-K4V"
   },
   "outputs": [],
   "source": [
    "from sklearn.model_selection import train_test_split\n",
    "\n",
    "X = titanic[['pclass', 'age', 'sibsp', 'parch', 'fare','gender']]\n",
    "y = titanic['survived']\n",
    "\n",
    "X_train, X_test, y_train, y_test = ?(X, y, ?, random_state = 13)"
   ]
  },
  {
   "cell_type": "markdown",
   "metadata": {
    "id": "GbYW_XXO-sBw"
   },
   "source": [
    "2.7 RandomForest  \n",
    "RandomForestClassifier 함수는 랜덤포레스트를 할때 사용하는 함수 입니다.  \n",
    "n_estimators (생성할 의사결정 나무 개수), max_features (의사결정나무 만들 시, 사용하는 feature 개수)  \n",
    "어떠한 ML을 사용할지 명시를 하고, 어떤 데이터를 사용하여 학습을 하고 (fit), 어떤 데이터를 사용하여 검증을 하는지 명시합니다 (predict)"
   ]
  },
  {
   "cell_type": "code",
   "execution_count": null,
   "metadata": {
    "colab": {
     "base_uri": "https://localhost:8080/"
    },
    "id": "c4b3KxCm_A9N",
    "outputId": "30b12373-1132-4b23-9452-92663d505ff9"
   },
   "outputs": [
    {
     "name": "stdout",
     "output_type": "stream",
     "text": [
      "0.7799043062200957\n"
     ]
    }
   ],
   "source": [
    "from sklearn.ensemble import RandomForestClassifier\n",
    "from sklearn.metrics import accuracy_score\n",
    "\n",
    "rf = RandomForestClassifier(random_state= 13, n_estimators= 100, max_depth=4)\n",
    "rf.?(X_train, y_train)\n",
    "\n",
    "pred = rf.?(X_test)\n",
    "print(accuracy_score(y_test, pred))"
   ]
  },
  {
   "cell_type": "markdown",
   "metadata": {
    "id": "XZ1zhkir_kDS"
   },
   "source": [
    "2.8 Pipeline을 만들고, Standard 스케일러를 사용\n",
    "파이프라인은 여러 단계에 걸쳐 진행되는 작업을 한번에 진행 할수 있도록 하는 방법  \n",
    "파이프라인을 통해 한번에 진행하려는 작업을 기술하고 (estimator), Pipeline의 파라미터로 사용 !"
   ]
  },
  {
   "cell_type": "code",
   "execution_count": null,
   "metadata": {
    "id": "Ut6epfmbAvQ8"
   },
   "outputs": [],
   "source": [
    "from sklearn.pipeline import Pipeline\n",
    "from sklearn.preprocessing import StandardScaler\n",
    "\n",
    "estimators = [('scaler', StandardScaler()),\n",
    "             ('clf', RandomForestClassifier(random_state=13))]\n",
    "\n",
    "pipe = Pipeline(?)"
   ]
  },
  {
   "cell_type": "markdown",
   "metadata": {
    "id": "saMO7jVcL4s2"
   },
   "source": [
    "2.9.1 최적의 파라미터를 위한 그리드 서치  \n",
    "그리드 서치는 GridSearchCV 함수를 사용하여 진행합니다.  \n",
    "estimator 옵션에는 pipe를 사용하여 이전에 만든 파이프라인을 사용합니다.  \n",
    "이외에 fold의 값이 5가 되도록 합니다."
   ]
  },
  {
   "cell_type": "code",
   "execution_count": null,
   "metadata": {
    "colab": {
     "base_uri": "https://localhost:8080/"
    },
    "id": "PgtNevmYL8_x",
    "outputId": "c7362223-1f14-4be4-f57a-a3f353d71590"
   },
   "outputs": [
    {
     "name": "stdout",
     "output_type": "stream",
     "text": [
      "Fitting 5 folds for each of 16 candidates, totalling 80 fits\n",
      "[CV] clf__max_depth=6, clf__n_estimators=50 ..........................\n",
      "[CV] ........... clf__max_depth=6, clf__n_estimators=50, total=   0.1s\n",
      "[CV] clf__max_depth=6, clf__n_estimators=50 ..........................\n"
     ]
    },
    {
     "name": "stderr",
     "output_type": "stream",
     "text": [
      "[Parallel(n_jobs=1)]: Using backend SequentialBackend with 1 concurrent workers.\n",
      "[Parallel(n_jobs=1)]: Done   1 out of   1 | elapsed:    0.1s remaining:    0.0s\n"
     ]
    },
    {
     "name": "stdout",
     "output_type": "stream",
     "text": [
      "[CV] ........... clf__max_depth=6, clf__n_estimators=50, total=   0.1s\n",
      "[CV] clf__max_depth=6, clf__n_estimators=50 ..........................\n",
      "[CV] ........... clf__max_depth=6, clf__n_estimators=50, total=   0.1s\n",
      "[CV] clf__max_depth=6, clf__n_estimators=50 ..........................\n",
      "[CV] ........... clf__max_depth=6, clf__n_estimators=50, total=   0.1s\n",
      "[CV] clf__max_depth=6, clf__n_estimators=50 ..........................\n",
      "[CV] ........... clf__max_depth=6, clf__n_estimators=50, total=   0.1s\n",
      "[CV] clf__max_depth=6, clf__n_estimators=100 .........................\n",
      "[CV] .......... clf__max_depth=6, clf__n_estimators=100, total=   0.2s\n",
      "[CV] clf__max_depth=6, clf__n_estimators=100 .........................\n",
      "[CV] .......... clf__max_depth=6, clf__n_estimators=100, total=   0.2s\n",
      "[CV] clf__max_depth=6, clf__n_estimators=100 .........................\n",
      "[CV] .......... clf__max_depth=6, clf__n_estimators=100, total=   0.2s\n",
      "[CV] clf__max_depth=6, clf__n_estimators=100 .........................\n",
      "[CV] .......... clf__max_depth=6, clf__n_estimators=100, total=   0.2s\n",
      "[CV] clf__max_depth=6, clf__n_estimators=100 .........................\n",
      "[CV] .......... clf__max_depth=6, clf__n_estimators=100, total=   0.2s\n",
      "[CV] clf__max_depth=6, clf__n_estimators=200 .........................\n",
      "[CV] .......... clf__max_depth=6, clf__n_estimators=200, total=   0.4s\n",
      "[CV] clf__max_depth=6, clf__n_estimators=200 .........................\n",
      "[CV] .......... clf__max_depth=6, clf__n_estimators=200, total=   0.4s\n",
      "[CV] clf__max_depth=6, clf__n_estimators=200 .........................\n",
      "[CV] .......... clf__max_depth=6, clf__n_estimators=200, total=   0.4s\n",
      "[CV] clf__max_depth=6, clf__n_estimators=200 .........................\n",
      "[CV] .......... clf__max_depth=6, clf__n_estimators=200, total=   0.4s\n",
      "[CV] clf__max_depth=6, clf__n_estimators=200 .........................\n",
      "[CV] .......... clf__max_depth=6, clf__n_estimators=200, total=   0.3s\n",
      "[CV] clf__max_depth=6, clf__n_estimators=1000 ........................\n",
      "[CV] ......... clf__max_depth=6, clf__n_estimators=1000, total=   1.7s\n",
      "[CV] clf__max_depth=6, clf__n_estimators=1000 ........................\n",
      "[CV] ......... clf__max_depth=6, clf__n_estimators=1000, total=   1.7s\n",
      "[CV] clf__max_depth=6, clf__n_estimators=1000 ........................\n",
      "[CV] ......... clf__max_depth=6, clf__n_estimators=1000, total=   1.8s\n",
      "[CV] clf__max_depth=6, clf__n_estimators=1000 ........................\n",
      "[CV] ......... clf__max_depth=6, clf__n_estimators=1000, total=   1.8s\n",
      "[CV] clf__max_depth=6, clf__n_estimators=1000 ........................\n",
      "[CV] ......... clf__max_depth=6, clf__n_estimators=1000, total=   1.7s\n",
      "[CV] clf__max_depth=8, clf__n_estimators=50 ..........................\n",
      "[CV] ........... clf__max_depth=8, clf__n_estimators=50, total=   0.1s\n",
      "[CV] clf__max_depth=8, clf__n_estimators=50 ..........................\n",
      "[CV] ........... clf__max_depth=8, clf__n_estimators=50, total=   0.1s\n",
      "[CV] clf__max_depth=8, clf__n_estimators=50 ..........................\n",
      "[CV] ........... clf__max_depth=8, clf__n_estimators=50, total=   0.1s\n",
      "[CV] clf__max_depth=8, clf__n_estimators=50 ..........................\n",
      "[CV] ........... clf__max_depth=8, clf__n_estimators=50, total=   0.1s\n",
      "[CV] clf__max_depth=8, clf__n_estimators=50 ..........................\n",
      "[CV] ........... clf__max_depth=8, clf__n_estimators=50, total=   0.1s\n",
      "[CV] clf__max_depth=8, clf__n_estimators=100 .........................\n",
      "[CV] .......... clf__max_depth=8, clf__n_estimators=100, total=   0.2s\n",
      "[CV] clf__max_depth=8, clf__n_estimators=100 .........................\n",
      "[CV] .......... clf__max_depth=8, clf__n_estimators=100, total=   0.2s\n",
      "[CV] clf__max_depth=8, clf__n_estimators=100 .........................\n",
      "[CV] .......... clf__max_depth=8, clf__n_estimators=100, total=   0.2s\n",
      "[CV] clf__max_depth=8, clf__n_estimators=100 .........................\n",
      "[CV] .......... clf__max_depth=8, clf__n_estimators=100, total=   0.2s\n",
      "[CV] clf__max_depth=8, clf__n_estimators=100 .........................\n",
      "[CV] .......... clf__max_depth=8, clf__n_estimators=100, total=   0.2s\n",
      "[CV] clf__max_depth=8, clf__n_estimators=200 .........................\n",
      "[CV] .......... clf__max_depth=8, clf__n_estimators=200, total=   0.4s\n",
      "[CV] clf__max_depth=8, clf__n_estimators=200 .........................\n",
      "[CV] .......... clf__max_depth=8, clf__n_estimators=200, total=   0.4s\n",
      "[CV] clf__max_depth=8, clf__n_estimators=200 .........................\n",
      "[CV] .......... clf__max_depth=8, clf__n_estimators=200, total=   0.4s\n",
      "[CV] clf__max_depth=8, clf__n_estimators=200 .........................\n",
      "[CV] .......... clf__max_depth=8, clf__n_estimators=200, total=   0.4s\n",
      "[CV] clf__max_depth=8, clf__n_estimators=200 .........................\n",
      "[CV] .......... clf__max_depth=8, clf__n_estimators=200, total=   0.4s\n",
      "[CV] clf__max_depth=8, clf__n_estimators=1000 ........................\n",
      "[CV] ......... clf__max_depth=8, clf__n_estimators=1000, total=   1.8s\n",
      "[CV] clf__max_depth=8, clf__n_estimators=1000 ........................\n",
      "[CV] ......... clf__max_depth=8, clf__n_estimators=1000, total=   1.8s\n",
      "[CV] clf__max_depth=8, clf__n_estimators=1000 ........................\n",
      "[CV] ......... clf__max_depth=8, clf__n_estimators=1000, total=   1.8s\n",
      "[CV] clf__max_depth=8, clf__n_estimators=1000 ........................\n",
      "[CV] ......... clf__max_depth=8, clf__n_estimators=1000, total=   1.8s\n",
      "[CV] clf__max_depth=8, clf__n_estimators=1000 ........................\n",
      "[CV] ......... clf__max_depth=8, clf__n_estimators=1000, total=   1.8s\n",
      "[CV] clf__max_depth=10, clf__n_estimators=50 .........................\n",
      "[CV] .......... clf__max_depth=10, clf__n_estimators=50, total=   0.1s\n",
      "[CV] clf__max_depth=10, clf__n_estimators=50 .........................\n",
      "[CV] .......... clf__max_depth=10, clf__n_estimators=50, total=   0.1s\n",
      "[CV] clf__max_depth=10, clf__n_estimators=50 .........................\n",
      "[CV] .......... clf__max_depth=10, clf__n_estimators=50, total=   0.1s\n",
      "[CV] clf__max_depth=10, clf__n_estimators=50 .........................\n",
      "[CV] .......... clf__max_depth=10, clf__n_estimators=50, total=   0.1s\n",
      "[CV] clf__max_depth=10, clf__n_estimators=50 .........................\n",
      "[CV] .......... clf__max_depth=10, clf__n_estimators=50, total=   0.2s\n",
      "[CV] clf__max_depth=10, clf__n_estimators=100 ........................\n",
      "[CV] ......... clf__max_depth=10, clf__n_estimators=100, total=   0.2s\n",
      "[CV] clf__max_depth=10, clf__n_estimators=100 ........................\n",
      "[CV] ......... clf__max_depth=10, clf__n_estimators=100, total=   0.2s\n",
      "[CV] clf__max_depth=10, clf__n_estimators=100 ........................\n",
      "[CV] ......... clf__max_depth=10, clf__n_estimators=100, total=   0.2s\n",
      "[CV] clf__max_depth=10, clf__n_estimators=100 ........................\n",
      "[CV] ......... clf__max_depth=10, clf__n_estimators=100, total=   0.2s\n",
      "[CV] clf__max_depth=10, clf__n_estimators=100 ........................\n",
      "[CV] ......... clf__max_depth=10, clf__n_estimators=100, total=   0.2s\n",
      "[CV] clf__max_depth=10, clf__n_estimators=200 ........................\n",
      "[CV] ......... clf__max_depth=10, clf__n_estimators=200, total=   0.4s\n",
      "[CV] clf__max_depth=10, clf__n_estimators=200 ........................\n",
      "[CV] ......... clf__max_depth=10, clf__n_estimators=200, total=   0.4s\n",
      "[CV] clf__max_depth=10, clf__n_estimators=200 ........................\n",
      "[CV] ......... clf__max_depth=10, clf__n_estimators=200, total=   0.4s\n",
      "[CV] clf__max_depth=10, clf__n_estimators=200 ........................\n",
      "[CV] ......... clf__max_depth=10, clf__n_estimators=200, total=   0.4s\n",
      "[CV] clf__max_depth=10, clf__n_estimators=200 ........................\n",
      "[CV] ......... clf__max_depth=10, clf__n_estimators=200, total=   0.4s\n",
      "[CV] clf__max_depth=10, clf__n_estimators=1000 .......................\n",
      "[CV] ........ clf__max_depth=10, clf__n_estimators=1000, total=   1.8s\n",
      "[CV] clf__max_depth=10, clf__n_estimators=1000 .......................\n",
      "[CV] ........ clf__max_depth=10, clf__n_estimators=1000, total=   1.9s\n",
      "[CV] clf__max_depth=10, clf__n_estimators=1000 .......................\n",
      "[CV] ........ clf__max_depth=10, clf__n_estimators=1000, total=   1.9s\n",
      "[CV] clf__max_depth=10, clf__n_estimators=1000 .......................\n",
      "[CV] ........ clf__max_depth=10, clf__n_estimators=1000, total=   1.8s\n",
      "[CV] clf__max_depth=10, clf__n_estimators=1000 .......................\n",
      "[CV] ........ clf__max_depth=10, clf__n_estimators=1000, total=   1.8s\n",
      "[CV] clf__max_depth=100, clf__n_estimators=50 ........................\n",
      "[CV] ......... clf__max_depth=100, clf__n_estimators=50, total=   0.1s\n",
      "[CV] clf__max_depth=100, clf__n_estimators=50 ........................\n",
      "[CV] ......... clf__max_depth=100, clf__n_estimators=50, total=   0.1s\n",
      "[CV] clf__max_depth=100, clf__n_estimators=50 ........................\n",
      "[CV] ......... clf__max_depth=100, clf__n_estimators=50, total=   0.1s\n",
      "[CV] clf__max_depth=100, clf__n_estimators=50 ........................\n",
      "[CV] ......... clf__max_depth=100, clf__n_estimators=50, total=   0.1s\n",
      "[CV] clf__max_depth=100, clf__n_estimators=50 ........................\n",
      "[CV] ......... clf__max_depth=100, clf__n_estimators=50, total=   0.1s\n",
      "[CV] clf__max_depth=100, clf__n_estimators=100 .......................\n",
      "[CV] ........ clf__max_depth=100, clf__n_estimators=100, total=   0.2s\n",
      "[CV] clf__max_depth=100, clf__n_estimators=100 .......................\n",
      "[CV] ........ clf__max_depth=100, clf__n_estimators=100, total=   0.2s\n",
      "[CV] clf__max_depth=100, clf__n_estimators=100 .......................\n",
      "[CV] ........ clf__max_depth=100, clf__n_estimators=100, total=   0.2s\n",
      "[CV] clf__max_depth=100, clf__n_estimators=100 .......................\n",
      "[CV] ........ clf__max_depth=100, clf__n_estimators=100, total=   0.2s\n",
      "[CV] clf__max_depth=100, clf__n_estimators=100 .......................\n",
      "[CV] ........ clf__max_depth=100, clf__n_estimators=100, total=   0.2s\n",
      "[CV] clf__max_depth=100, clf__n_estimators=200 .......................\n",
      "[CV] ........ clf__max_depth=100, clf__n_estimators=200, total=   0.4s\n",
      "[CV] clf__max_depth=100, clf__n_estimators=200 .......................\n",
      "[CV] ........ clf__max_depth=100, clf__n_estimators=200, total=   0.4s\n",
      "[CV] clf__max_depth=100, clf__n_estimators=200 .......................\n",
      "[CV] ........ clf__max_depth=100, clf__n_estimators=200, total=   0.4s\n",
      "[CV] clf__max_depth=100, clf__n_estimators=200 .......................\n",
      "[CV] ........ clf__max_depth=100, clf__n_estimators=200, total=   0.4s\n",
      "[CV] clf__max_depth=100, clf__n_estimators=200 .......................\n",
      "[CV] ........ clf__max_depth=100, clf__n_estimators=200, total=   0.4s\n",
      "[CV] clf__max_depth=100, clf__n_estimators=1000 ......................\n",
      "[CV] ....... clf__max_depth=100, clf__n_estimators=1000, total=   2.0s\n",
      "[CV] clf__max_depth=100, clf__n_estimators=1000 ......................\n",
      "[CV] ....... clf__max_depth=100, clf__n_estimators=1000, total=   2.0s\n",
      "[CV] clf__max_depth=100, clf__n_estimators=1000 ......................\n",
      "[CV] ....... clf__max_depth=100, clf__n_estimators=1000, total=   2.0s\n",
      "[CV] clf__max_depth=100, clf__n_estimators=1000 ......................\n",
      "[CV] ....... clf__max_depth=100, clf__n_estimators=1000, total=   2.2s\n",
      "[CV] clf__max_depth=100, clf__n_estimators=1000 ......................\n",
      "[CV] ....... clf__max_depth=100, clf__n_estimators=1000, total=   2.1s\n"
     ]
    },
    {
     "name": "stderr",
     "output_type": "stream",
     "text": [
      "[Parallel(n_jobs=1)]: Done  80 out of  80 | elapsed:   56.0s finished\n"
     ]
    },
    {
     "data": {
      "text/plain": [
       "GridSearchCV(cv=5, error_score=nan,\n",
       "             estimator=Pipeline(memory=None,\n",
       "                                steps=[('scaler',\n",
       "                                        StandardScaler(copy=True,\n",
       "                                                       with_mean=True,\n",
       "                                                       with_std=True)),\n",
       "                                       ('clf',\n",
       "                                        RandomForestClassifier(bootstrap=True,\n",
       "                                                               ccp_alpha=0.0,\n",
       "                                                               class_weight=None,\n",
       "                                                               criterion='gini',\n",
       "                                                               max_depth=None,\n",
       "                                                               max_features='auto',\n",
       "                                                               max_leaf_nodes=None,\n",
       "                                                               max_samples=None,\n",
       "                                                               min_impurity_decrease=0.0,\n",
       "                                                               min_impurity_split=N...\n",
       "                                                               min_samples_leaf=1,\n",
       "                                                               min_samples_split=2,\n",
       "                                                               min_weight_fraction_leaf=0.0,\n",
       "                                                               n_estimators=100,\n",
       "                                                               n_jobs=None,\n",
       "                                                               oob_score=False,\n",
       "                                                               random_state=13,\n",
       "                                                               verbose=0,\n",
       "                                                               warm_start=False))],\n",
       "                                verbose=False),\n",
       "             iid='deprecated', n_jobs=None,\n",
       "             param_grid=[{'clf__max_depth': [6, 8, 10, 100],\n",
       "                          'clf__n_estimators': [50, 100, 200, 1000]}],\n",
       "             pre_dispatch='2*n_jobs', refit=True, return_train_score=True,\n",
       "             scoring=None, verbose=2)"
      ]
     },
     "execution_count": 31,
     "metadata": {
      "tags": []
     },
     "output_type": "execute_result"
    }
   ],
   "source": [
    "from sklearn.model_selection import GridSearchCV\n",
    "\n",
    "params = [{\n",
    "    'clf__max_depth': [6, 8, 10, 100],\n",
    "    'clf__n_estimators': [50, 100, 200, 1000]\n",
    "}]\n",
    "\n",
    "gridsearch = GridSearchCV(\n",
    "    ?, ?, return_train_score=True, ?, verbose=2)\n",
    "\n",
    "gridsearch.fit(X, y)"
   ]
  },
  {
   "cell_type": "markdown",
   "metadata": {
    "id": "xoe9QHJDMNOI"
   },
   "source": [
    "pipeline을 사용하여 gridsearchcv를 사용해보았음\n",
    "max_depth는 6,8,10,100, n_estimators는 50, 100, 200, 1000개를 사용함\n",
    "pipeline의 gridsearch는 __를 붙여야 함\n"
   ]
  },
  {
   "cell_type": "markdown",
   "metadata": {
    "id": "uZHtLhN2MP0C"
   },
   "source": [
    "2.9.2 각 모델간 성능 비교"
   ]
  },
  {
   "cell_type": "code",
   "execution_count": null,
   "metadata": {
    "colab": {
     "base_uri": "https://localhost:8080/",
     "height": 545
    },
    "id": "XBx1gVQ9MQEn",
    "outputId": "7fa9e2a6-2d52-4997-f68e-849cbbb7ac5b"
   },
   "outputs": [
    {
     "data": {
      "text/html": [
       "<div>\n",
       "<style scoped>\n",
       "    .dataframe tbody tr th:only-of-type {\n",
       "        vertical-align: middle;\n",
       "    }\n",
       "\n",
       "    .dataframe tbody tr th {\n",
       "        vertical-align: top;\n",
       "    }\n",
       "\n",
       "    .dataframe thead th {\n",
       "        text-align: right;\n",
       "    }\n",
       "</style>\n",
       "<table border=\"1\" class=\"dataframe\">\n",
       "  <thead>\n",
       "    <tr style=\"text-align: right;\">\n",
       "      <th></th>\n",
       "      <th>params</th>\n",
       "      <th>rank_test_score</th>\n",
       "      <th>mean_train_score</th>\n",
       "      <th>mean_test_score</th>\n",
       "      <th>std_train_score</th>\n",
       "    </tr>\n",
       "  </thead>\n",
       "  <tbody>\n",
       "    <tr>\n",
       "      <th>0</th>\n",
       "      <td>{'clf__max_depth': 6, 'clf__n_estimators': 50}</td>\n",
       "      <td>4</td>\n",
       "      <td>0.861962</td>\n",
       "      <td>0.691866</td>\n",
       "      <td>0.013440</td>\n",
       "    </tr>\n",
       "    <tr>\n",
       "      <th>1</th>\n",
       "      <td>{'clf__max_depth': 6, 'clf__n_estimators': 100}</td>\n",
       "      <td>2</td>\n",
       "      <td>0.860526</td>\n",
       "      <td>0.694737</td>\n",
       "      <td>0.014366</td>\n",
       "    </tr>\n",
       "    <tr>\n",
       "      <th>2</th>\n",
       "      <td>{'clf__max_depth': 6, 'clf__n_estimators': 200}</td>\n",
       "      <td>3</td>\n",
       "      <td>0.859091</td>\n",
       "      <td>0.692823</td>\n",
       "      <td>0.013937</td>\n",
       "    </tr>\n",
       "    <tr>\n",
       "      <th>3</th>\n",
       "      <td>{'clf__max_depth': 6, 'clf__n_estimators': 1000}</td>\n",
       "      <td>1</td>\n",
       "      <td>0.859809</td>\n",
       "      <td>0.704306</td>\n",
       "      <td>0.013605</td>\n",
       "    </tr>\n",
       "    <tr>\n",
       "      <th>4</th>\n",
       "      <td>{'clf__max_depth': 8, 'clf__n_estimators': 50}</td>\n",
       "      <td>8</td>\n",
       "      <td>0.898325</td>\n",
       "      <td>0.684211</td>\n",
       "      <td>0.011597</td>\n",
       "    </tr>\n",
       "    <tr>\n",
       "      <th>5</th>\n",
       "      <td>{'clf__max_depth': 8, 'clf__n_estimators': 100}</td>\n",
       "      <td>5</td>\n",
       "      <td>0.900239</td>\n",
       "      <td>0.688038</td>\n",
       "      <td>0.012491</td>\n",
       "    </tr>\n",
       "    <tr>\n",
       "      <th>6</th>\n",
       "      <td>{'clf__max_depth': 8, 'clf__n_estimators': 200}</td>\n",
       "      <td>6</td>\n",
       "      <td>0.898804</td>\n",
       "      <td>0.686124</td>\n",
       "      <td>0.013247</td>\n",
       "    </tr>\n",
       "    <tr>\n",
       "      <th>7</th>\n",
       "      <td>{'clf__max_depth': 8, 'clf__n_estimators': 1000}</td>\n",
       "      <td>6</td>\n",
       "      <td>0.899043</td>\n",
       "      <td>0.686124</td>\n",
       "      <td>0.012985</td>\n",
       "    </tr>\n",
       "    <tr>\n",
       "      <th>8</th>\n",
       "      <td>{'clf__max_depth': 10, 'clf__n_estimators': 50}</td>\n",
       "      <td>12</td>\n",
       "      <td>0.933971</td>\n",
       "      <td>0.664115</td>\n",
       "      <td>0.013730</td>\n",
       "    </tr>\n",
       "    <tr>\n",
       "      <th>9</th>\n",
       "      <td>{'clf__max_depth': 10, 'clf__n_estimators': 100}</td>\n",
       "      <td>11</td>\n",
       "      <td>0.933971</td>\n",
       "      <td>0.666029</td>\n",
       "      <td>0.013264</td>\n",
       "    </tr>\n",
       "    <tr>\n",
       "      <th>10</th>\n",
       "      <td>{'clf__max_depth': 10, 'clf__n_estimators': 200}</td>\n",
       "      <td>9</td>\n",
       "      <td>0.932775</td>\n",
       "      <td>0.670813</td>\n",
       "      <td>0.012417</td>\n",
       "    </tr>\n",
       "    <tr>\n",
       "      <th>11</th>\n",
       "      <td>{'clf__max_depth': 10, 'clf__n_estimators': 1000}</td>\n",
       "      <td>9</td>\n",
       "      <td>0.935646</td>\n",
       "      <td>0.670813</td>\n",
       "      <td>0.014540</td>\n",
       "    </tr>\n",
       "    <tr>\n",
       "      <th>12</th>\n",
       "      <td>{'clf__max_depth': 100, 'clf__n_estimators': 50}</td>\n",
       "      <td>13</td>\n",
       "      <td>0.981100</td>\n",
       "      <td>0.648804</td>\n",
       "      <td>0.004102</td>\n",
       "    </tr>\n",
       "    <tr>\n",
       "      <th>13</th>\n",
       "      <td>{'clf__max_depth': 100, 'clf__n_estimators': 100}</td>\n",
       "      <td>14</td>\n",
       "      <td>0.981818</td>\n",
       "      <td>0.645933</td>\n",
       "      <td>0.003960</td>\n",
       "    </tr>\n",
       "    <tr>\n",
       "      <th>14</th>\n",
       "      <td>{'clf__max_depth': 100, 'clf__n_estimators': 200}</td>\n",
       "      <td>16</td>\n",
       "      <td>0.981818</td>\n",
       "      <td>0.643062</td>\n",
       "      <td>0.003960</td>\n",
       "    </tr>\n",
       "    <tr>\n",
       "      <th>15</th>\n",
       "      <td>{'clf__max_depth': 100, 'clf__n_estimators': 1...</td>\n",
       "      <td>14</td>\n",
       "      <td>0.981818</td>\n",
       "      <td>0.645933</td>\n",
       "      <td>0.003960</td>\n",
       "    </tr>\n",
       "  </tbody>\n",
       "</table>\n",
       "</div>"
      ],
      "text/plain": [
       "                                               params  ...  std_train_score\n",
       "0      {'clf__max_depth': 6, 'clf__n_estimators': 50}  ...         0.013440\n",
       "1     {'clf__max_depth': 6, 'clf__n_estimators': 100}  ...         0.014366\n",
       "2     {'clf__max_depth': 6, 'clf__n_estimators': 200}  ...         0.013937\n",
       "3    {'clf__max_depth': 6, 'clf__n_estimators': 1000}  ...         0.013605\n",
       "4      {'clf__max_depth': 8, 'clf__n_estimators': 50}  ...         0.011597\n",
       "5     {'clf__max_depth': 8, 'clf__n_estimators': 100}  ...         0.012491\n",
       "6     {'clf__max_depth': 8, 'clf__n_estimators': 200}  ...         0.013247\n",
       "7    {'clf__max_depth': 8, 'clf__n_estimators': 1000}  ...         0.012985\n",
       "8     {'clf__max_depth': 10, 'clf__n_estimators': 50}  ...         0.013730\n",
       "9    {'clf__max_depth': 10, 'clf__n_estimators': 100}  ...         0.013264\n",
       "10   {'clf__max_depth': 10, 'clf__n_estimators': 200}  ...         0.012417\n",
       "11  {'clf__max_depth': 10, 'clf__n_estimators': 1000}  ...         0.014540\n",
       "12   {'clf__max_depth': 100, 'clf__n_estimators': 50}  ...         0.004102\n",
       "13  {'clf__max_depth': 100, 'clf__n_estimators': 100}  ...         0.003960\n",
       "14  {'clf__max_depth': 100, 'clf__n_estimators': 200}  ...         0.003960\n",
       "15  {'clf__max_depth': 100, 'clf__n_estimators': 1...  ...         0.003960\n",
       "\n",
       "[16 rows x 5 columns]"
      ]
     },
     "execution_count": 32,
     "metadata": {
      "tags": []
     },
     "output_type": "execute_result"
    }
   ],
   "source": [
    "score_df = pd.DataFrame(gridsearch.cv_results_)\n",
    "score_df[['params', 'rank_test_score', 'mean_train_score',\n",
    "          'mean_test_score', 'std_train_score']]"
   ]
  }
 ],
 "metadata": {
  "colab": {
   "collapsed_sections": [],
   "name": "Untitled21.ipynb",
   "provenance": []
  },
  "kernelspec": {
   "display_name": "Python 3",
   "language": "python",
   "name": "python3"
  },
  "language_info": {
   "codemirror_mode": {
    "name": "ipython",
    "version": 3
   },
   "file_extension": ".py",
   "mimetype": "text/x-python",
   "name": "python",
   "nbconvert_exporter": "python",
   "pygments_lexer": "ipython3",
   "version": "3.8.3"
  }
 },
 "nbformat": 4,
 "nbformat_minor": 1
}
