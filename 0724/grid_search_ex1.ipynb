{
  "nbformat": 4,
  "nbformat_minor": 0,
  "metadata": {
    "kernelspec": {
      "display_name": "Python 3",
      "language": "python",
      "name": "python3"
    },
    "language_info": {
      "codemirror_mode": {
        "name": "ipython",
        "version": 3
      },
      "file_extension": ".py",
      "mimetype": "text/x-python",
      "name": "python",
      "nbconvert_exporter": "python",
      "pygments_lexer": "ipython3",
      "version": "3.8.5"
    },
    "colab": {
      "name": "grid_search_ex1.ipynb",
      "provenance": []
    }
  },
  "cells": [
    {
      "cell_type": "markdown",
      "metadata": {
        "id": "2OUJzlZAT5bw"
      },
      "source": [
        "## 그리드 서치 (Grid Search)와 교차검증 (Cross Validation) ##"
      ]
    },
    {
      "cell_type": "markdown",
      "metadata": {
        "id": "L1rsmIesT5by"
      },
      "source": [
        "GridSearchCV(estimator, param_grid, scoring, cv, refit)\n",
        "* Estimator: classifier, regressor, pipeline등이 사용 될 수 있음\n",
        "* Param_id (파라미터 딕셔너리), cv (교차 검증을 위해 분할되는 폴드 숫자)"
      ]
    },
    {
      "cell_type": "code",
      "metadata": {
        "id": "pFSO-NZ6T5by",
        "outputId": "1d9597ad-f9cb-401c-b2c3-deed2c2e8aff"
      },
      "source": [
        "from sklearn.datasets import load_iris \n",
        "from sklearn.svm import SVC\n",
        "from sklearn.model_selection import train_test_split\n",
        "from sklearn.model_selection import GridSearchCV \n",
        "\n",
        "iris = load_iris() \n",
        "\n",
        "# 매개변수 그리드 만들기\n",
        "# C는 0.001, 0.01, 0.1, 1, 10, 100\n",
        "# gamma는 0.001, 0.01, 0.1, 1, 10, 100\n",
        "param_grid = {'C': [              ],\n",
        "              'gamma': [            ]}\n",
        "print(\"매개변수 그리드:\\n\", param_grid)\n",
        "\n",
        "# GridSearchCV를 이용하여 교차검증 그리드 객체 만들기\n",
        "# GridSearchCV(모델, 검색 대상 매개변수 그리드, cv=몇번 교차검증, return_train_score=True)\n",
        "# 여기에서는 SVM 모델 (SVC)을 사용\n",
        "grid_search =           (     , param_grid=param_grid, cv=2, return_train_score=True)\n",
        "\n",
        "# 데이터 나누기 훈련/테스트\n",
        "# train_test_split 함수 사용\n",
        "X_train, X_test, y_train, y_test =            (iris.data, iris.target,random_state=0)\n",
        "\n",
        "# 최적의 매개변수로 전체 훈련 데이터 세트에 대한 새로운 모델을 자동으로 생성\n",
        "# fit 함수를 사용하여 어떠한 데이터를 사용하여 학습할 것인지 명시\n",
        "grid_search.  (X_train, y_train)\n",
        "\n",
        "# 최적 매개변수 (테스트 사용되지 않음)\n",
        "print(\"최적 매개변수:\", grid_search.best_params_)\n",
        "\n",
        "# 최상의 교차 검증 정확도 (테스트 사용되지 않음)\n",
        "print(\"최고 교차 검증 점수: {:.2f}\".format(grid_search.best_score_))\n",
        "\n",
        "# 최고 성능의 모델 구성 요소 확인\n",
        "print(\"최고 성능 모델:\\n\", grid_search.best_estimator_)\n",
        "\n",
        "# GridSearchCV 결과 추출하여 DataFrame으로 변환 \n",
        "scores_df = pd.DataFrame(grid_search.cv_results_) \n",
        "scores_df[['params', 'mean_test_score', 'rank_test_score','split0_test_score', 'split1_test_score', 'split2_test_score']] \n",
        "\n"
      ],
      "execution_count": null,
      "outputs": [
        {
          "output_type": "stream",
          "text": [
            "매개변수 그리드:\n",
            " {'C': [0.001, 0.01, 0.1, 1, 10, 100], 'gamma': [0.001, 0.01, 0.1, 1, 10, 100]}\n",
            "최적 매개변수: {'C': 10, 'gamma': 0.1}\n",
            "최고 교차 검증 점수: 0.97\n",
            "최고 성능 모델:\n",
            " SVC(C=10, gamma=0.1)\n"
          ],
          "name": "stdout"
        }
      ]
    },
    {
      "cell_type": "markdown",
      "metadata": {
        "id": "xg3a9sxsT5b0"
      },
      "source": [
        "랜덤 서치 (Random Search)\n",
        "* 그리드 서치는 모든 경우를 테이블로 만든 뒤, 격자로 탐색하는 방식\n",
        "* 랜덤 서치는 하이퍼 파라미터 값을 랜덤하게 넣어보고 그중 우수한 값을 보인 하이퍼 파리미터를 활용하여 모델 생성\n"
      ]
    },
    {
      "cell_type": "markdown",
      "metadata": {
        "id": "vpGkzUeWT5b0"
      },
      "source": [
        "랜덤 서치 (Random Search): RandomizedSearchCV 함수\n",
        "* 그리드 서치와 유사한 사용법, n_iter (몇 번 반복하여 수행할 것인지를 명시)\n",
        "* 각 반복마다 하이퍼 파리미터에 랜덤으로 대입하여 지정한 횟수만큼 평가\n",
        "* 하이퍼 파라미터 탐색 공간이 커질 경우 사용하면 좋은 효과를 얻는 것 가능\n"
      ]
    },
    {
      "cell_type": "code",
      "metadata": {
        "id": "FkYDWUq5T5b0",
        "outputId": "0623053d-51c5-4a20-df17-e7db818adf81"
      },
      "source": [
        "from sklearn.datasets import load_iris \n",
        "from sklearn.tree import DecisionTreeClassifier \n",
        "from sklearn.model_selection import GridSearchCV \n",
        "from sklearn.model_selection import train_test_split\n",
        "from sklearn.model_selection import RandomizedSearchCV\n",
        "import pandas as pd\n",
        "\n",
        "# 데이터를 로딩하고 학습데이타와 테스트 데이터 분리 \n",
        "iris_data = load_iris() \n",
        "X_train, X_test, y_train, y_test = train_test_split(iris_data.data, iris_data.target, test_size=0.2, random_state=121) \n",
        "dtree = DecisionTreeClassifier() \n",
        "\n",
        "### parameter 들을 dictionary 형태로 설정 \n",
        "parameters = {'max_depth':[1,2,3], 'min_samples_split':[2,3]} \n",
        "\n",
        "# param_grid의 하이퍼 파라미터들을 3개의 train, test set fold 로 나누어서 테스트 수행 설정. \n",
        "### refit=True 가 default 임. True이면 가장 좋은 파라미터 설정으로 재 학습 시킴. \n",
        "grid_dtree =            (       ,        , n_iter=10, cv=3) #폴드의 수는 3개, refit는 true로 학습\n",
        "\n",
        "# 붓꽃 Train 데이터로 param_grid의 하이퍼 파라미터들을 순차적으로 학습/평가 \n",
        "grid_dtree.   (X_train, y_train) \n",
        "\n",
        "# GridSearchCV 결과 추출하여 DataFrame으로 변환 \n",
        "scores_df = pd.DataFrame(grid_dtree.cv_results_) \n",
        "scores_df[['params', 'mean_test_score', 'rank_test_score','split0_test_score', 'split1_test_score', 'split2_test_score']] \n"
      ],
      "execution_count": null,
      "outputs": [
        {
          "output_type": "stream",
          "text": [
            "/Users/sang-soopark/opt/anaconda3/lib/python3.8/site-packages/sklearn/model_selection/_search.py:278: UserWarning: The total space of parameters 6 is smaller than n_iter=10. Running 6 iterations. For exhaustive searches, use GridSearchCV.\n",
            "  warnings.warn(\n"
          ],
          "name": "stderr"
        },
        {
          "output_type": "execute_result",
          "data": {
            "text/html": [
              "<div>\n",
              "<style scoped>\n",
              "    .dataframe tbody tr th:only-of-type {\n",
              "        vertical-align: middle;\n",
              "    }\n",
              "\n",
              "    .dataframe tbody tr th {\n",
              "        vertical-align: top;\n",
              "    }\n",
              "\n",
              "    .dataframe thead th {\n",
              "        text-align: right;\n",
              "    }\n",
              "</style>\n",
              "<table border=\"1\" class=\"dataframe\">\n",
              "  <thead>\n",
              "    <tr style=\"text-align: right;\">\n",
              "      <th></th>\n",
              "      <th>params</th>\n",
              "      <th>mean_test_score</th>\n",
              "      <th>rank_test_score</th>\n",
              "      <th>split0_test_score</th>\n",
              "      <th>split1_test_score</th>\n",
              "      <th>split2_test_score</th>\n",
              "    </tr>\n",
              "  </thead>\n",
              "  <tbody>\n",
              "    <tr>\n",
              "      <th>0</th>\n",
              "      <td>{'min_samples_split': 2, 'max_depth': 1}</td>\n",
              "      <td>0.700000</td>\n",
              "      <td>5</td>\n",
              "      <td>0.700</td>\n",
              "      <td>0.7</td>\n",
              "      <td>0.70</td>\n",
              "    </tr>\n",
              "    <tr>\n",
              "      <th>1</th>\n",
              "      <td>{'min_samples_split': 3, 'max_depth': 1}</td>\n",
              "      <td>0.700000</td>\n",
              "      <td>5</td>\n",
              "      <td>0.700</td>\n",
              "      <td>0.7</td>\n",
              "      <td>0.70</td>\n",
              "    </tr>\n",
              "    <tr>\n",
              "      <th>2</th>\n",
              "      <td>{'min_samples_split': 2, 'max_depth': 2}</td>\n",
              "      <td>0.958333</td>\n",
              "      <td>3</td>\n",
              "      <td>0.925</td>\n",
              "      <td>1.0</td>\n",
              "      <td>0.95</td>\n",
              "    </tr>\n",
              "    <tr>\n",
              "      <th>3</th>\n",
              "      <td>{'min_samples_split': 3, 'max_depth': 2}</td>\n",
              "      <td>0.958333</td>\n",
              "      <td>3</td>\n",
              "      <td>0.925</td>\n",
              "      <td>1.0</td>\n",
              "      <td>0.95</td>\n",
              "    </tr>\n",
              "    <tr>\n",
              "      <th>4</th>\n",
              "      <td>{'min_samples_split': 2, 'max_depth': 3}</td>\n",
              "      <td>0.975000</td>\n",
              "      <td>1</td>\n",
              "      <td>0.975</td>\n",
              "      <td>1.0</td>\n",
              "      <td>0.95</td>\n",
              "    </tr>\n",
              "    <tr>\n",
              "      <th>5</th>\n",
              "      <td>{'min_samples_split': 3, 'max_depth': 3}</td>\n",
              "      <td>0.975000</td>\n",
              "      <td>1</td>\n",
              "      <td>0.975</td>\n",
              "      <td>1.0</td>\n",
              "      <td>0.95</td>\n",
              "    </tr>\n",
              "  </tbody>\n",
              "</table>\n",
              "</div>"
            ],
            "text/plain": [
              "                                     params  mean_test_score  rank_test_score  \\\n",
              "0  {'min_samples_split': 2, 'max_depth': 1}         0.700000                5   \n",
              "1  {'min_samples_split': 3, 'max_depth': 1}         0.700000                5   \n",
              "2  {'min_samples_split': 2, 'max_depth': 2}         0.958333                3   \n",
              "3  {'min_samples_split': 3, 'max_depth': 2}         0.958333                3   \n",
              "4  {'min_samples_split': 2, 'max_depth': 3}         0.975000                1   \n",
              "5  {'min_samples_split': 3, 'max_depth': 3}         0.975000                1   \n",
              "\n",
              "   split0_test_score  split1_test_score  split2_test_score  \n",
              "0              0.700                0.7               0.70  \n",
              "1              0.700                0.7               0.70  \n",
              "2              0.925                1.0               0.95  \n",
              "3              0.925                1.0               0.95  \n",
              "4              0.975                1.0               0.95  \n",
              "5              0.975                1.0               0.95  "
            ]
          },
          "metadata": {
            "tags": []
          },
          "execution_count": 16
        }
      ]
    },
    {
      "cell_type": "markdown",
      "metadata": {
        "id": "IgemtooNT5b1"
      },
      "source": [
        "GridSearchCV의 fit을 수행하면, 최고 성능의 하이퍼 파라미터와 그때의 평가 결과 값은 best_params_, best_score_ 속성에 기록\n",
        "* 최적의 성능을 보여주는 파라미터로 학습된 estimator는 best_estimator_로 저장되어 있음 (refit=True)\n",
        "* Predict 함수를 수행하여 특정 데이터 셋에 대한 평가를 진행하고, accuracy_score를 통해 정확도 확인 !\n"
      ]
    },
    {
      "cell_type": "code",
      "metadata": {
        "id": "mz8bDYo7T5b1"
      },
      "source": [
        "from sklearn.metrics import accuracy_score\n",
        "\n",
        "print('GridSearchCV 최적 파라미터:', grid_dtree.?)\n",
        "print('GridSearchCV 최고 정확도: {0:.4f}'.format(grid_dtree.?))\n",
        "\n",
        "# GridSearchCV의 refit으로 이미 학습이 된 estimator 반환\n",
        "estimator = ?\n",
        "\n",
        "# GridSearchCV의 best_estimator_는 이미 최적 하이퍼 파라미터로 학습이 됨\n",
        "pred = estimator.?(X_test)\n",
        "print('테스트 데이터 세트 정확도: {0:.4f}'.format(?(y_test,pred)))\n",
        "\n"
      ],
      "execution_count": null,
      "outputs": []
    },
    {
      "cell_type": "code",
      "metadata": {
        "id": "QOWfb0FUT5b1"
      },
      "source": [
        ""
      ],
      "execution_count": null,
      "outputs": []
    }
  ]
}