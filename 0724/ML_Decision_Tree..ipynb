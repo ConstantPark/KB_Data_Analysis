{
 "cells": [
  {
   "cell_type": "markdown",
   "metadata": {},
   "source": [
    "## Decision Tree (의사결정나무) ##"
   ]
  },
  {
   "attachments": {},
   "cell_type": "markdown",
   "metadata": {},
   "source": [
    "Depth에 따른 분류결과 확인\n",
    "* Scikit-Learn를 사용하여 Decision tree 수행"
   ]
  },
  {
   "cell_type": "code",
   "execution_count": null,
   "metadata": {},
   "outputs": [],
   "source": [
    "\n",
    "import pandas as pd\n",
    "import numpy as np\n",
    "import matplotlib.pyplot as plt\n",
    "from sklearn import datasets\n",
    "from sklearn.model_selection import train_test_split\n",
    "from sklearn.tree import DecisionTreeClassifier\n",
    " \n",
    "iris = datasets.load_iris()\n",
    "X = iris.data[:, 2:]\n",
    "y = iris.target\n",
    " \n",
    "X_train, X_test, y_train, y_test = train_test_split(X, y, test_size=0.3, random_state=1, stratify=y)\n",
    " \n",
    "# DecisionTreeClassifier 함수를 사용하여 Decision Tree 사용\n",
    "# 이후 fit 함수를 사용하여 추론\n",
    "# max_depth는 의사결정나무의 최대 깊이를 지정 (4)\n",
    "clf_tree =          (criterion='gini',       =4, random_state=1)\n",
    "clf_tree.fit(X_train, y_train)"
   ]
  },
  {
   "attachments": {},
   "cell_type": "markdown",
   "metadata": {},
   "source": [
    "DecisionTreeClassifier (criterion, max_depth, random_state)\n",
    "* Criterion: 나눠진 결과물의 품질을 측정하는 기준 (gini/entropy 방법)\n",
    "* Max_depth: 의사결정나무의 최대 깊이 \n",
    "* 경계션을 많이 사용(깊이)하면 트리의 구조가 복잡해지고 과잉 적합 (overfitting) 문제가 발생\n",
    "* 과잉 적합 문제를 해결하기 위해서 사전/사후 가지치기 (pruning) 기법 사용\n"
   ]
  },
  {
   "cell_type": "code",
   "execution_count": null,
   "metadata": {},
   "outputs": [],
   "source": [
    "from mlxtend.plotting import plot_decision_regions\n",
    " \n",
    "X_combined = np.vstack((X_train, X_test))\n",
    "y_combined = np.hstack((y_train, y_test))\n",
    " \n",
    "fig, ax = plt.subplots(figsize=(7, 7))\n",
    "plot_decision_regions(X_combined, y_combined, clf=clf_tree)\n",
    "plt.xlabel('petal length [cm]')\n",
    "plt.ylabel('petal width [cm]')\n",
    "plt.legend(loc='upper left')\n",
    "plt.tight_layout()\n",
    "plt.show()"
   ]
  }
 ],
 "metadata": {
  "kernelspec": {
   "display_name": "Python 3",
   "language": "python",
   "name": "python3"
  },
  "language_info": {
   "codemirror_mode": {
    "name": "ipython",
    "version": 3
   },
   "file_extension": ".py",
   "mimetype": "text/x-python",
   "name": "python",
   "nbconvert_exporter": "python",
   "pygments_lexer": "ipython3",
   "version": "3.8.3"
  }
 },
 "nbformat": 4,
 "nbformat_minor": 4
}
