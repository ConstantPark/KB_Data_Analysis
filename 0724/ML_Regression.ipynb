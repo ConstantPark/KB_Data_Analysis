{
 "cells": [
  {
   "cell_type": "markdown",
   "metadata": {},
   "source": [
    "## 그리드 서치 (Grid Search)와 교차검증 (Cross Validation) ##"
   ]
  },
  {
   "attachments": {},
   "cell_type": "markdown",
   "metadata": {},
   "source": [
    "키를 입력으로 사용하여 체중을 예측하는 선형 회귀 모델\n",
    "* 1차원 특징 데이터 x와 이 값에 의존하는 y를 생성 (y=61.27218654x-39.06195591884392)\n",
    "* Scikit-Learn의 linear_model.LinearRegression 사용 !"
   ]
  },
  {
   "cell_type": "code",
   "execution_count": null,
   "metadata": {},
   "outputs": [],
   "source": [
    "import pandas as pd\n",
    "from sklearn import linear_model\n",
    "\n",
    "# height를 사용하여 mass를 예측 !\n",
    "df = pd.DataFrame({\n",
    "'height': [1.47, 1.50, 1.52, 1.55, 1.57, 1.60, 1.63, 1.65, 1.68, 1.70, 1.73, 1.75, 1.78, 1.80, 1.83],\n",
    "'mass': [52.21, 53.12, 54.48, 55.84, 57.20, 58.57, 59.93, 61.29, 63.11, 64.47, 66.28, 68.10, 69.92, 72.19, 74.46],\n",
    "})\n",
    "\u000b",
    "X = df[['height']]\n",
    "Y = df['mass’]\n",
    "\n",
    "reg = ? ()\n",
    "reg.? (X, Y)\n",
    "\n",
    "print( \"coefficient=\", reg.coef_ ) # 계수값 확인 (coef_) \n",
    "print( \"intercept=\", reg.? ) # bias값 확인 (intercept_)\n",
    "print( \"R²=\", reg.score(X, Y) )\n"
   ]
  },
  {
   "attachments": {},
   "cell_type": "markdown",
   "metadata": {},
   "source": [
    "그래프 그리기"
   ]
  },
  {
   "cell_type": "code",
   "execution_count": null,
   "metadata": {},
   "outputs": [],
   "source": [
    "import matplotlib.pyplot as plt\n",
    "\n",
    "plt.scatter(df.height, df.mass) #산점도 그리기\n",
    "plt.plot(X, reg.predict(X), color='red') ## 회귀직선 그리기\n"
   ]
  }
 ],
 "metadata": {
  "kernelspec": {
   "display_name": "Python 3",
   "language": "python",
   "name": "python3"
  },
  "language_info": {
   "codemirror_mode": {
    "name": "ipython",
    "version": 3
   },
   "file_extension": ".py",
   "mimetype": "text/x-python",
   "name": "python",
   "nbconvert_exporter": "python",
   "pygments_lexer": "ipython3",
   "version": "3.8.3"
  }
 },
 "nbformat": 4,
 "nbformat_minor": 4
}
