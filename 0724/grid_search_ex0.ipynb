{
  "nbformat": 4,
  "nbformat_minor": 0,
  "metadata": {
    "kernelspec": {
      "display_name": "Python 3",
      "language": "python",
      "name": "python3"
    },
    "language_info": {
      "codemirror_mode": {
        "name": "ipython",
        "version": 3
      },
      "file_extension": ".py",
      "mimetype": "text/x-python",
      "name": "python",
      "nbconvert_exporter": "python",
      "pygments_lexer": "ipython3",
      "version": "3.8.5"
    },
    "colab": {
      "name": "grid_search_ex0.ipynb",
      "provenance": []
    }
  },
  "cells": [
    {
      "cell_type": "markdown",
      "metadata": {
        "id": "mhIvvS-GTlrz"
      },
      "source": [
        "## 그리드 서치 (Grid Search) ##"
      ]
    },
    {
      "cell_type": "markdown",
      "metadata": {
        "id": "IKuREpoETlr0"
      },
      "source": [
        "모든 경우의 수에 해당되는 파라미터를 for문을 사용하여 입력이 되는 형태로 구현"
      ]
    },
    {
      "cell_type": "code",
      "metadata": {
        "id": "ly-WJBjSTlr1",
        "outputId": "d88fe9d2-b696-46db-8ed3-4d6ed650c59a"
      },
      "source": [
        "from sklearn.datasets import load_iris\n",
        "from sklearn.svm import SVC\n",
        "from sklearn.model_selection import train_test_split\n",
        "\n",
        "# iris 데이터 셋을 사용하여 진행 (데이터 로드 및 데이터셋 분리)\n",
        "iris = load_iris()\n",
        "X_train, X_test, y_train, y_test = train_test_split(iris.data, iris.target, random_state=0)\n",
        "best_score = 0 # 가장 스코어가 좋은 경우를 저장하는 변수\n",
        "\n",
        "# 반복문을 사용하여 구현\n",
        "# 반복문에 해당되는 Configuration을 SVC에 대입하고, 결과를 비교하여 가장 좋은 경우를 찾음\n",
        "# gamma와 C는 각각 리스트 형태로 저장: gamma [0.001, 0.01, 0.1, 1, 10, 100], C [0.001, 0.01, 0.1, 1, 10, 100]\n",
        "for gamma in  \n",
        "    for C in  \n",
        "        svm = SVC(gamma=gamma, C=C)\n",
        "        svm.fit(X_train, y_train)\n",
        "        score = svm.score(X_test, y_test)\n",
        "        \n",
        "        # 계산된 스코어 (score)와 이전의 스코어 (best_score)를 비교하여 최적의 방법을 선택\n",
        "        if \n",
        "            \n",
        "            best_parameters = {'C': C, 'gamma': gamma}\n",
        "print(\"최고 점수: {:.2f}\".format(best_score))\n",
        "print(\"최적 매개변수: {}\".format(best_parameters))\n"
      ],
      "execution_count": null,
      "outputs": [
        {
          "output_type": "stream",
          "text": [
            "최고 점수: 0.97\n",
            "최적 매개변수: {'C': 100, 'gamma': 0.001}\n"
          ],
          "name": "stdout"
        }
      ]
    },
    {
      "cell_type": "markdown",
      "metadata": {
        "id": "w-cv2JLsTlr2"
      },
      "source": [
        "GridSearchCV 함수는  그리드 서치를 사용하여 자동으로 복수개의 모형을 생성/실행하여 최적의 파라미터 탐색\n",
        "* Model estimator, 그리드 파라미터 (param_grid), 교차 검증을 위해 분할되는 폴드 수 (cv), 평가방법 (scoring)\n",
        "* 모든 경우의 수에 해당되는 파라미터를 dictionary 형태로 구현\n"
      ]
    },
    {
      "cell_type": "code",
      "metadata": {
        "id": "viJoorrmTlr2",
        "outputId": "7c92256c-1c7d-4dfb-f7ee-bce5502a4eba"
      },
      "source": [
        "from sklearn.datasets import load_iris \n",
        "from sklearn.tree import DecisionTreeClassifier \n",
        "from sklearn.model_selection import GridSearchCV \n",
        "from sklearn.model_selection import train_test_split\n",
        "import pandas as pd\n",
        "\n",
        "# 데이터를 로딩하고 학습데이타와 테스트 데이터 분리 \n",
        "iris_data = load_iris() \n",
        "X_train, X_test, y_train, y_test = train_test_split(iris_data.data, iris_data.target, test_size=0.2, random_state=121) \n",
        "dtree = DecisionTreeClassifier() \n",
        "\n",
        "### parameter 들을 dictionary 형태로 설정 \n",
        "parameters = {'max_depth':[1,2,3], 'min_samples_split':[2,3]} \n",
        "\n",
        "# param_grid의 하이퍼 파라미터들을 3개의 train, test set fold 로 나누어서 테스트 수행 설정. \n",
        "### refit=True 가 default 임. True이면 가장 좋은 파라미터 설정으로 재 학습 시킴. \n",
        "grid_dtree = GridSearchCV(dtree, param_grid=parameters, cv=3, refit=True, n_jobs=4) \n",
        "\n",
        "# 붓꽃 Train 데이터로 param_grid의 하이퍼 파라미터들을 순차적으로 학습/평가 \n",
        "grid_dtree.fit(X_train, y_train) \n",
        "\n",
        "# GridSearchCV 결과 추출하여 DataFrame으로 변환 \n",
        "scores_df = pd.DataFrame(grid_dtree.cv_results_) \n",
        "scores_df\n",
        "#scores_df[['params', 'mean_test_score', 'rank_test_score', 'split0_test_score', 'split1_test_score', 'split2_test_score']] \n"
      ],
      "execution_count": null,
      "outputs": [
        {
          "output_type": "execute_result",
          "data": {
            "text/html": [
              "<div>\n",
              "<style scoped>\n",
              "    .dataframe tbody tr th:only-of-type {\n",
              "        vertical-align: middle;\n",
              "    }\n",
              "\n",
              "    .dataframe tbody tr th {\n",
              "        vertical-align: top;\n",
              "    }\n",
              "\n",
              "    .dataframe thead th {\n",
              "        text-align: right;\n",
              "    }\n",
              "</style>\n",
              "<table border=\"1\" class=\"dataframe\">\n",
              "  <thead>\n",
              "    <tr style=\"text-align: right;\">\n",
              "      <th></th>\n",
              "      <th>mean_fit_time</th>\n",
              "      <th>std_fit_time</th>\n",
              "      <th>mean_score_time</th>\n",
              "      <th>std_score_time</th>\n",
              "      <th>param_max_depth</th>\n",
              "      <th>param_min_samples_split</th>\n",
              "      <th>params</th>\n",
              "      <th>split0_test_score</th>\n",
              "      <th>split1_test_score</th>\n",
              "      <th>split2_test_score</th>\n",
              "      <th>mean_test_score</th>\n",
              "      <th>std_test_score</th>\n",
              "      <th>rank_test_score</th>\n",
              "    </tr>\n",
              "  </thead>\n",
              "  <tbody>\n",
              "    <tr>\n",
              "      <th>0</th>\n",
              "      <td>0.001092</td>\n",
              "      <td>0.000980</td>\n",
              "      <td>0.000368</td>\n",
              "      <td>0.000187</td>\n",
              "      <td>1</td>\n",
              "      <td>2</td>\n",
              "      <td>{'max_depth': 1, 'min_samples_split': 2}</td>\n",
              "      <td>0.700</td>\n",
              "      <td>0.7</td>\n",
              "      <td>0.70</td>\n",
              "      <td>0.700000</td>\n",
              "      <td>1.110223e-16</td>\n",
              "      <td>5</td>\n",
              "    </tr>\n",
              "    <tr>\n",
              "      <th>1</th>\n",
              "      <td>0.001025</td>\n",
              "      <td>0.000936</td>\n",
              "      <td>0.000372</td>\n",
              "      <td>0.000200</td>\n",
              "      <td>1</td>\n",
              "      <td>3</td>\n",
              "      <td>{'max_depth': 1, 'min_samples_split': 3}</td>\n",
              "      <td>0.700</td>\n",
              "      <td>0.7</td>\n",
              "      <td>0.70</td>\n",
              "      <td>0.700000</td>\n",
              "      <td>1.110223e-16</td>\n",
              "      <td>5</td>\n",
              "    </tr>\n",
              "    <tr>\n",
              "      <th>2</th>\n",
              "      <td>0.000361</td>\n",
              "      <td>0.000031</td>\n",
              "      <td>0.000206</td>\n",
              "      <td>0.000011</td>\n",
              "      <td>2</td>\n",
              "      <td>2</td>\n",
              "      <td>{'max_depth': 2, 'min_samples_split': 2}</td>\n",
              "      <td>0.925</td>\n",
              "      <td>1.0</td>\n",
              "      <td>0.95</td>\n",
              "      <td>0.958333</td>\n",
              "      <td>3.118048e-02</td>\n",
              "      <td>3</td>\n",
              "    </tr>\n",
              "    <tr>\n",
              "      <th>3</th>\n",
              "      <td>0.000322</td>\n",
              "      <td>0.000004</td>\n",
              "      <td>0.000192</td>\n",
              "      <td>0.000004</td>\n",
              "      <td>2</td>\n",
              "      <td>3</td>\n",
              "      <td>{'max_depth': 2, 'min_samples_split': 3}</td>\n",
              "      <td>0.925</td>\n",
              "      <td>1.0</td>\n",
              "      <td>0.95</td>\n",
              "      <td>0.958333</td>\n",
              "      <td>3.118048e-02</td>\n",
              "      <td>3</td>\n",
              "    </tr>\n",
              "    <tr>\n",
              "      <th>4</th>\n",
              "      <td>0.001070</td>\n",
              "      <td>0.000942</td>\n",
              "      <td>0.000388</td>\n",
              "      <td>0.000257</td>\n",
              "      <td>3</td>\n",
              "      <td>2</td>\n",
              "      <td>{'max_depth': 3, 'min_samples_split': 2}</td>\n",
              "      <td>0.975</td>\n",
              "      <td>1.0</td>\n",
              "      <td>0.95</td>\n",
              "      <td>0.975000</td>\n",
              "      <td>2.041241e-02</td>\n",
              "      <td>1</td>\n",
              "    </tr>\n",
              "    <tr>\n",
              "      <th>5</th>\n",
              "      <td>0.000355</td>\n",
              "      <td>0.000012</td>\n",
              "      <td>0.000198</td>\n",
              "      <td>0.000006</td>\n",
              "      <td>3</td>\n",
              "      <td>3</td>\n",
              "      <td>{'max_depth': 3, 'min_samples_split': 3}</td>\n",
              "      <td>0.975</td>\n",
              "      <td>1.0</td>\n",
              "      <td>0.95</td>\n",
              "      <td>0.975000</td>\n",
              "      <td>2.041241e-02</td>\n",
              "      <td>1</td>\n",
              "    </tr>\n",
              "  </tbody>\n",
              "</table>\n",
              "</div>"
            ],
            "text/plain": [
              "   mean_fit_time  std_fit_time  mean_score_time  std_score_time  \\\n",
              "0       0.001092      0.000980         0.000368        0.000187   \n",
              "1       0.001025      0.000936         0.000372        0.000200   \n",
              "2       0.000361      0.000031         0.000206        0.000011   \n",
              "3       0.000322      0.000004         0.000192        0.000004   \n",
              "4       0.001070      0.000942         0.000388        0.000257   \n",
              "5       0.000355      0.000012         0.000198        0.000006   \n",
              "\n",
              "  param_max_depth param_min_samples_split  \\\n",
              "0               1                       2   \n",
              "1               1                       3   \n",
              "2               2                       2   \n",
              "3               2                       3   \n",
              "4               3                       2   \n",
              "5               3                       3   \n",
              "\n",
              "                                     params  split0_test_score  \\\n",
              "0  {'max_depth': 1, 'min_samples_split': 2}              0.700   \n",
              "1  {'max_depth': 1, 'min_samples_split': 3}              0.700   \n",
              "2  {'max_depth': 2, 'min_samples_split': 2}              0.925   \n",
              "3  {'max_depth': 2, 'min_samples_split': 3}              0.925   \n",
              "4  {'max_depth': 3, 'min_samples_split': 2}              0.975   \n",
              "5  {'max_depth': 3, 'min_samples_split': 3}              0.975   \n",
              "\n",
              "   split1_test_score  split2_test_score  mean_test_score  std_test_score  \\\n",
              "0                0.7               0.70         0.700000    1.110223e-16   \n",
              "1                0.7               0.70         0.700000    1.110223e-16   \n",
              "2                1.0               0.95         0.958333    3.118048e-02   \n",
              "3                1.0               0.95         0.958333    3.118048e-02   \n",
              "4                1.0               0.95         0.975000    2.041241e-02   \n",
              "5                1.0               0.95         0.975000    2.041241e-02   \n",
              "\n",
              "   rank_test_score  \n",
              "0                5  \n",
              "1                5  \n",
              "2                3  \n",
              "3                3  \n",
              "4                1  \n",
              "5                1  "
            ]
          },
          "metadata": {
            "tags": []
          },
          "execution_count": 39
        }
      ]
    },
    {
      "cell_type": "markdown",
      "metadata": {
        "id": "MwRkP0MvTlr3"
      },
      "source": [
        "GridSearchCV의 fit을 수행하면, 최고 성능의 하이퍼 파라미터와 그때의 평가 결과 값은 best_params_, best_score_ 속성에 기록\n",
        "* 최적의 성능을 보여주는 파라미터로 학습된 estimator는 best_estimator_로 저장되어 있음 (refit=True)\n",
        "* Predict 함수를 수행하여 특정 데이터 셋에 대한 평가를 진행하고, accuracy_score를 통해 정확도 확인 !\n"
      ]
    },
    {
      "cell_type": "code",
      "metadata": {
        "id": "OuLuBnH1Tlr3",
        "outputId": "e107e784-a7fc-4aa0-82d2-36a0ffbb3553"
      },
      "source": [
        "from sklearn.metrics import accuracy_score\n",
        "\n",
        "print('GridSearchCV 최적 파라미터 : ', grid_dtree.best_params_)\n",
        "print('GridSearchCV 최고 정확도 : {0:.4f}'.format(grid_dtree.best_score_))\n",
        "\n",
        "# GridSearchCV의 refit으로 이미 학습이 된 estimator 반환\n",
        "estimator = grid_dtree.best_estimator_\n",
        "\n",
        "# GridSearchCV의 best_estimator_는 이미 최적 하이퍼 파라미터로 학습이 됨\n",
        "pred = estimator.predict(X_test)\n",
        "print('테스트 데이터 세트 정확도 :', accuracy_score(y_test, pred))"
      ],
      "execution_count": null,
      "outputs": [
        {
          "output_type": "stream",
          "text": [
            "GridSearchCV 최적 파라미터 :  {'max_depth': 3, 'min_samples_split': 2}\n",
            "GridSearchCV 최고 정확도 : 0.9750\n",
            "테스트 데이터 세트 정확도 : 0.9666666666666667\n"
          ],
          "name": "stdout"
        }
      ]
    },
    {
      "cell_type": "code",
      "metadata": {
        "id": "CT6-W7mUTlr3"
      },
      "source": [
        ""
      ],
      "execution_count": null,
      "outputs": []
    }
  ]
}